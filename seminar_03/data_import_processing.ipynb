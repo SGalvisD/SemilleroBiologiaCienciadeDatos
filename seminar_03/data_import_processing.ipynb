{
 "cells": [
  {
   "cell_type": "code",
   "metadata": {
    "tags": [],
    "cell_id": "f1ad878d-be9f-4b0f-ac26-210ad9292c6a",
    "deepnote_cell_type": "code",
    "deepnote_cell_height": 61
   },
   "source": "# Start writing code here...",
   "execution_count": null,
   "outputs": []
  },
  {
   "cell_type": "code",
   "source": "!ls",
   "metadata": {
    "cell_id": "f01e27f94a624cffb293d75e5f98fcd0",
    "tags": [],
    "deepnote_to_be_reexecuted": false,
    "source_hash": "ad8f3ca4",
    "execution_start": 1659716665654,
    "execution_millis": 657,
    "deepnote_cell_type": "code",
    "deepnote_cell_height": 130.890625
   },
   "outputs": [
    {
     "name": "stdout",
     "text": "data_import_processing.ipynb\t\t       import_process_data_intro.ipynb\nGCF_000222465.1_Adig_1.1_cds_from_genomic.fna  PC_adi_lorfs.pep\n",
     "output_type": "stream"
    }
   ],
   "execution_count": null
  },
  {
   "cell_type": "code",
   "source": "with open('PC_adi_lorfs.pep','r') as f:\n    contents=f.read()",
   "metadata": {
    "cell_id": "db1780d366404463b9d94e59303559a2",
    "tags": [],
    "deepnote_to_be_reexecuted": false,
    "source_hash": "e6a10635",
    "execution_start": 1659716812993,
    "execution_millis": 30,
    "deepnote_cell_type": "code",
    "deepnote_cell_height": 94
   },
   "outputs": [],
   "execution_count": null
  },
  {
   "cell_type": "code",
   "source": "contents_lines=contents.split('\\n')",
   "metadata": {
    "cell_id": "6ddebdf34cec4b02898541f6f72239eb",
    "tags": [],
    "deepnote_to_be_reexecuted": false,
    "source_hash": "563a5337",
    "execution_start": 1659716863921,
    "execution_millis": 2,
    "deepnote_cell_type": "code",
    "deepnote_cell_height": 76
   },
   "outputs": [],
   "execution_count": null
  },
  {
   "cell_type": "code",
   "source": "len(contents_lines)",
   "metadata": {
    "cell_id": "6adeced1e09541b1b1556d55230512a1",
    "tags": [],
    "deepnote_to_be_reexecuted": false,
    "source_hash": "c9b43014",
    "execution_start": 1659716913903,
    "execution_millis": 11,
    "deepnote_cell_type": "code",
    "deepnote_cell_height": 113.1875,
    "deepnote_output_heights": [
     21.1875
    ]
   },
   "outputs": [
    {
     "output_type": "execute_result",
     "execution_count": 6,
     "data": {
      "text/plain": "95613"
     },
     "metadata": {}
    }
   ],
   "execution_count": null
  },
  {
   "cell_type": "code",
   "source": "contents_lines[0]",
   "metadata": {
    "cell_id": "da755b55831e42729860f379b39583ba",
    "tags": [],
    "deepnote_to_be_reexecuted": false,
    "source_hash": "a1096a82",
    "execution_start": 1659716937532,
    "execution_millis": 0,
    "deepnote_cell_type": "code",
    "deepnote_cell_height": 113.1875,
    "deepnote_output_heights": [
     21.1875
    ]
   },
   "outputs": [
    {
     "output_type": "execute_result",
     "execution_count": 7,
     "data": {
      "text/plain": "'>unknown_transcript_1|m.1 unknown_transcript_1|g.1 type:complete len:399 gc:universal unknown_transcript_1:13813-15009(+)'"
     },
     "metadata": {}
    }
   ],
   "execution_count": null
  },
  {
   "cell_type": "code",
   "source": "contents_lines[-2]",
   "metadata": {
    "cell_id": "dac26eb3e2d94bb0a3f6e66a5b64090e",
    "tags": [],
    "deepnote_to_be_reexecuted": false,
    "source_hash": "b92a9020",
    "execution_start": 1659716995829,
    "execution_millis": 89,
    "deepnote_cell_type": "code",
    "deepnote_cell_height": 113.1875,
    "deepnote_output_heights": [
     21.1875
    ]
   },
   "outputs": [
    {
     "output_type": "execute_result",
     "execution_count": 10,
     "data": {
      "text/plain": "'EEKTERQERIKQKTAELQELILQQIAFKNLVQRNKQVEKEQGSPAPNTAIHLPFIIVNTSKKTVIDCSISNDKCEYLFNFDNTFEIHDDIEVLKRMGMAFGLEKGQCAEANLKASRTMVPKALEPYVVDMAKSGPVGLGGNLGNHTTPK*'"
     },
     "metadata": {}
    }
   ],
   "execution_count": null
  },
  {
   "cell_type": "code",
   "source": "for line in contents_lines[0:10]:\n    print(line)",
   "metadata": {
    "cell_id": "4bea43679ce447f19220c5bf8d6ba73a",
    "tags": [],
    "deepnote_to_be_reexecuted": false,
    "source_hash": "b8a87096",
    "execution_start": 1659717036209,
    "execution_millis": 38,
    "deepnote_cell_type": "code",
    "deepnote_cell_height": 306.453125
   },
   "outputs": [
    {
     "name": "stdout",
     "text": ">unknown_transcript_1|m.1 unknown_transcript_1|g.1 type:complete len:399 gc:universal unknown_transcript_1:13813-15009(+)\nMKSLYVVRWGFSTNHKDIGTLYLVFGIGAGMIGTAFSMLIRLELSAPGAMLGDDHLYNVIVTAHAFIMIFFLVMPVMIGGFGNWLVPLYIGAPDMAFPRLNNISFWLLPPALILLLGSAFVEQGVGTGWTVYPPLSSIQAHSGGAVDMAIFSLHLAGVSSILGAMNFITTILNMRAPGMTLNKMPLFVWSILITAFLLLLSLPVLAGAITMLLTDRNFNTTFFDPAGGGDPILFQHLFWFFGHPEVYILILPGFGMISQIIPTFVAKKQIFGYLGMVYAMLSIGILGFIVWAHHMFTVGMDVDTRAYFTAATMIIAVPTGIKVFSWLATIFGGTLRLDTPMLWAMGFVFLFTLGGLTGVVLANSSLDVVLHDTYYVVAHFHYVLSMGAVFAIFGGFYY*\n>unknown_transcript_1|m.2 unknown_transcript_1|g.2 type:complete len:233 gc:universal unknown_transcript_1:6886-7584(+)\nMSGAYFDQFKIVALIALTNSSMMMILVVVVVLLLFKGVQLIPKRWQSLIELIYEHFHGVVKDNLGSEGLRYFPLIVSLFFFIVFLNVLGLFPYVFTPTVHIVVTLGLSFSIIIGVTLAGFWRFKGDFFSVFMPSGAPLGLAPLLVLIETVSFISRAISLGVRLAANLSAGHLLFAILAGFGFNMLVASGPVGVFPLLIMVFITLLEVAVAVIQAYVFCLLATIYLADTIVLH*\n>unknown_transcript_1|m.3 unknown_transcript_1|g.3 type:complete len:212 gc:universal unknown_transcript_1:5539-6174(+)\nMWAPDVYDGAPTTTTALLATVPKVGYFSILVSIGSAVNILLVGALFSMVVGAIGALNQTKVKRLLAYSGVGHMGFVLWGIEVGSFESIQASLIYVVLYVVMSICVFAIILTLGAAKNLIVEFSGLSRRLSVLALTLALTFLSIAGIPPLVGFWGKWLVLLSGVVYQYYLVFLLAVMCSVVAGVYYVRIVKIIYFQASFSLLISSKVLRKEN*\n>unknown_transcript_1|m.4 unknown_transcript_1|g.4 type:complete len:208 gc:universal unknown_transcript_1:8437-9060(+)\nMLGVVAIIYGGLLTCRQVDFKRLIAYSSVAHMGLVPLGLFTHTIEGLVAAVFMMLAHGFVSSALFIAITYLYERHHTRLIKYYRGVTLTMPVFVCIMMVLSLSNMGIPLSCNFVGEFFSLLAAVEYNFGLGVLATSGMVWSAAYSLYLYNRISFGAASNYLLFIRDLNRCELLAISPLLIAIFIFGIFPFIIIDPVKNGVIFSPGGG*\n>unknown_transcript_1|m.5 unknown_transcript_1|g.5 type:complete len:159 gc:universal unknown_transcript_1:12463-12939(+)\nMVTAGVFLLIRSSPFFEQAPLALMIVTIVGSLTVLFAATVGVIQNDLKKVIAYSTCSQLGYMVVACGLSHYSISLFHLMNHAFFKALLFLSAGSVIHALSDEQDIRKMGGLIKLIPLTYIMVVVGSLSLMGFPYLTGFYSKDLILELAFEQYYLTFAY*\n",
     "output_type": "stream"
    }
   ],
   "execution_count": null
  },
  {
   "cell_type": "code",
   "source": "counter=0\nfor line in contents_lines:\n    print(line)\n    counter=counter+1\n    if counter>10:\n        break",
   "metadata": {
    "cell_id": "fa8cd1aca6c34542a150b7d20470a680",
    "tags": [],
    "deepnote_to_be_reexecuted": false,
    "source_hash": "f0c50e22",
    "execution_start": 1659717121316,
    "execution_millis": 2,
    "deepnote_cell_type": "code",
    "deepnote_cell_height": 398.140625
   },
   "outputs": [
    {
     "name": "stdout",
     "text": ">unknown_transcript_1|m.1 unknown_transcript_1|g.1 type:complete len:399 gc:universal unknown_transcript_1:13813-15009(+)\nMKSLYVVRWGFSTNHKDIGTLYLVFGIGAGMIGTAFSMLIRLELSAPGAMLGDDHLYNVIVTAHAFIMIFFLVMPVMIGGFGNWLVPLYIGAPDMAFPRLNNISFWLLPPALILLLGSAFVEQGVGTGWTVYPPLSSIQAHSGGAVDMAIFSLHLAGVSSILGAMNFITTILNMRAPGMTLNKMPLFVWSILITAFLLLLSLPVLAGAITMLLTDRNFNTTFFDPAGGGDPILFQHLFWFFGHPEVYILILPGFGMISQIIPTFVAKKQIFGYLGMVYAMLSIGILGFIVWAHHMFTVGMDVDTRAYFTAATMIIAVPTGIKVFSWLATIFGGTLRLDTPMLWAMGFVFLFTLGGLTGVVLANSSLDVVLHDTYYVVAHFHYVLSMGAVFAIFGGFYY*\n>unknown_transcript_1|m.2 unknown_transcript_1|g.2 type:complete len:233 gc:universal unknown_transcript_1:6886-7584(+)\nMSGAYFDQFKIVALIALTNSSMMMILVVVVVLLLFKGVQLIPKRWQSLIELIYEHFHGVVKDNLGSEGLRYFPLIVSLFFFIVFLNVLGLFPYVFTPTVHIVVTLGLSFSIIIGVTLAGFWRFKGDFFSVFMPSGAPLGLAPLLVLIETVSFISRAISLGVRLAANLSAGHLLFAILAGFGFNMLVASGPVGVFPLLIMVFITLLEVAVAVIQAYVFCLLATIYLADTIVLH*\n>unknown_transcript_1|m.3 unknown_transcript_1|g.3 type:complete len:212 gc:universal unknown_transcript_1:5539-6174(+)\nMWAPDVYDGAPTTTTALLATVPKVGYFSILVSIGSAVNILLVGALFSMVVGAIGALNQTKVKRLLAYSGVGHMGFVLWGIEVGSFESIQASLIYVVLYVVMSICVFAIILTLGAAKNLIVEFSGLSRRLSVLALTLALTFLSIAGIPPLVGFWGKWLVLLSGVVYQYYLVFLLAVMCSVVAGVYYVRIVKIIYFQASFSLLISSKVLRKEN*\n>unknown_transcript_1|m.4 unknown_transcript_1|g.4 type:complete len:208 gc:universal unknown_transcript_1:8437-9060(+)\nMLGVVAIIYGGLLTCRQVDFKRLIAYSSVAHMGLVPLGLFTHTIEGLVAAVFMMLAHGFVSSALFIAITYLYERHHTRLIKYYRGVTLTMPVFVCIMMVLSLSNMGIPLSCNFVGEFFSLLAAVEYNFGLGVLATSGMVWSAAYSLYLYNRISFGAASNYLLFIRDLNRCELLAISPLLIAIFIFGIFPFIIIDPVKNGVIFSPGGG*\n>unknown_transcript_1|m.5 unknown_transcript_1|g.5 type:complete len:159 gc:universal unknown_transcript_1:12463-12939(+)\nMVTAGVFLLIRSSPFFEQAPLALMIVTIVGSLTVLFAATVGVIQNDLKKVIAYSTCSQLGYMVVACGLSHYSISLFHLMNHAFFKALLFLSAGSVIHALSDEQDIRKMGGLIKLIPLTYIMVVVGSLSLMGFPYLTGFYSKDLILELAFEQYYLTFAY*\n>unknown_transcript_1|m.6 unknown_transcript_1|g.6 type:complete len:138 gc:universal unknown_transcript_1:11332-11745(+)\n",
     "output_type": "stream"
    }
   ],
   "execution_count": null
  },
  {
   "cell_type": "code",
   "source": "counter=0\nfor line in contents_lines[::2]:\n    print(line)\n    counter=counter+1\n    if counter>10:\n        break",
   "metadata": {
    "cell_id": "07ba784434c640f5b51b3e4b0f61b94d",
    "tags": [],
    "deepnote_to_be_reexecuted": false,
    "source_hash": "2032ecdd",
    "execution_start": 1659717187931,
    "execution_millis": 0,
    "deepnote_cell_type": "code",
    "deepnote_cell_height": 398.140625
   },
   "outputs": [
    {
     "name": "stdout",
     "text": ">unknown_transcript_1|m.1 unknown_transcript_1|g.1 type:complete len:399 gc:universal unknown_transcript_1:13813-15009(+)\n>unknown_transcript_1|m.2 unknown_transcript_1|g.2 type:complete len:233 gc:universal unknown_transcript_1:6886-7584(+)\n>unknown_transcript_1|m.3 unknown_transcript_1|g.3 type:complete len:212 gc:universal unknown_transcript_1:5539-6174(+)\n>unknown_transcript_1|m.4 unknown_transcript_1|g.4 type:complete len:208 gc:universal unknown_transcript_1:8437-9060(+)\n>unknown_transcript_1|m.5 unknown_transcript_1|g.5 type:complete len:159 gc:universal unknown_transcript_1:12463-12939(+)\n>unknown_transcript_1|m.6 unknown_transcript_1|g.6 type:complete len:138 gc:universal unknown_transcript_1:11332-11745(+)\n>unknown_transcript_1|m.7 unknown_transcript_1|g.7 type:complete len:137 gc:universal unknown_transcript_1:6249-6659(+)\n>unknown_transcript_1|m.8 unknown_transcript_1|g.8 type:complete len:130 gc:universal unknown_transcript_1:3427-3816(+)\n>MSTRG.1.3|m.9 MSTRG.1.3|g.9 type:complete len:138 gc:universal MSTRG.1.3:3434-3847(+)\n>MSTRG.1.3|m.10 MSTRG.1.3|g.10 type:complete len:109 gc:universal MSTRG.1.3:1727-2053(+)\n>XM_015898527.1|m.11 XM_015898527.1|g.11 type:5prime_partial len:138 gc:universal XM_015898527.1:3-416(+)\n",
     "output_type": "stream"
    }
   ],
   "execution_count": null
  },
  {
   "cell_type": "code",
   "source": "regex=r'>(.*)\\|m'",
   "metadata": {
    "cell_id": "186e6a2fecd644909f95da4f1662490a",
    "tags": [],
    "deepnote_to_be_reexecuted": false,
    "source_hash": "2ca4a906",
    "execution_start": 1659717579407,
    "execution_millis": 0,
    "deepnote_cell_type": "code",
    "deepnote_cell_height": 76
   },
   "outputs": [],
   "execution_count": null
  },
  {
   "cell_type": "code",
   "source": "import re\nresults=re.findall(regex,contents_lines[20])\nprint(results)",
   "metadata": {
    "cell_id": "00e3dfaa61354546a8154e0e2285e782",
    "tags": [],
    "deepnote_to_be_reexecuted": false,
    "source_hash": "ef30fc3e",
    "execution_start": 1659717579695,
    "execution_millis": 5,
    "deepnote_cell_type": "code",
    "deepnote_cell_height": 142.6875
   },
   "outputs": [
    {
     "name": "stdout",
     "text": "['XM_015898527.1']\n",
     "output_type": "stream"
    }
   ],
   "execution_count": null
  },
  {
   "cell_type": "code",
   "source": "counter=0\nfor line in contents_lines[::2]:\n    results=re.findall(regex,line)\n    print('identificado de mi proteina es: '+str(results))\n    counter=counter+1\n    if counter>100:\n        break",
   "metadata": {
    "cell_id": "c326583f2af4408ab05dcc169df81b85",
    "tags": [],
    "deepnote_to_be_reexecuted": false,
    "source_hash": "b9db670d",
    "execution_start": 1659717669009,
    "execution_millis": 7,
    "deepnote_cell_type": "code",
    "deepnote_cell_height": 252.1875
   },
   "outputs": [
    {
     "name": "stdout",
     "text": "identificado de mi proteina es: ['unknown_transcript_1']\nidentificado de mi proteina es: ['unknown_transcript_1']\nidentificado de mi proteina es: ['unknown_transcript_1']\nidentificado de mi proteina es: ['unknown_transcript_1']\nidentificado de mi proteina es: ['unknown_transcript_1']\nidentificado de mi proteina es: ['unknown_transcript_1']\nidentificado de mi proteina es: ['unknown_transcript_1']\nidentificado de mi proteina es: ['unknown_transcript_1']\nidentificado de mi proteina es: ['MSTRG.1.3']\nidentificado de mi proteina es: ['MSTRG.1.3']\nidentificado de mi proteina es: ['XM_015898527.1']\nidentificado de mi proteina es: ['XM_015900226.1']\nidentificado de mi proteina es: ['XR_001562384.1']\nidentificado de mi proteina es: ['XR_001562384.1']\nidentificado de mi proteina es: ['XM_015908742.1']\nidentificado de mi proteina es: ['XM_015918879.1']\nidentificado de mi proteina es: ['XM_015918879.1']\nidentificado de mi proteina es: ['XM_015918879.1']\nidentificado de mi proteina es: ['XM_015918879.1']\nidentificado de mi proteina es: ['XM_015918879.1']\nidentificado de mi proteina es: ['XM_015900462.1']\nidentificado de mi proteina es: ['XM_015894786.1']\nidentificado de mi proteina es: ['XM_015896429.1']\nidentificado de mi proteina es: ['XM_015896429.1']\nidentificado de mi proteina es: ['XM_015896429.1']\nidentificado de mi proteina es: ['XM_015897484.1']\nidentificado de mi proteina es: ['XM_015898528.1']\nidentificado de mi proteina es: ['XM_015898528.1']\nidentificado de mi proteina es: ['XM_015899577.1']\nidentificado de mi proteina es: ['XM_015900595.1']\nidentificado de mi proteina es: ['XM_015900595.1']\nidentificado de mi proteina es: ['XM_015900595.1']\nidentificado de mi proteina es: ['XM_015900595.1']\nidentificado de mi proteina es: ['XM_015901610.1']\nidentificado de mi proteina es: ['XM_015901610.1']\nidentificado de mi proteina es: ['XM_015901610.1']\nidentificado de mi proteina es: ['XM_015901610.1']\nidentificado de mi proteina es: ['XM_015901610.1']\nidentificado de mi proteina es: ['XM_015902658.1']\nidentificado de mi proteina es: ['XM_015902658.1']\nidentificado de mi proteina es: ['MSTRG.4.1']\nidentificado de mi proteina es: ['MSTRG.6.2']\nidentificado de mi proteina es: ['MSTRG.6.2']\nidentificado de mi proteina es: ['XM_015900562.1']\nidentificado de mi proteina es: ['XM_015900562.1']\nidentificado de mi proteina es: ['MSTRG.8.1']\nidentificado de mi proteina es: ['MSTRG.8.4']\nidentificado de mi proteina es: ['XM_015901457.1']\nidentificado de mi proteina es: ['XM_015900876.1']\nidentificado de mi proteina es: ['XM_015900876.1']\nidentificado de mi proteina es: ['XM_015900946.1']\nidentificado de mi proteina es: ['XM_015900946.1']\nidentificado de mi proteina es: ['XM_015901008.1']\nidentificado de mi proteina es: ['XM_015901008.1']\nidentificado de mi proteina es: ['XM_015901218.1']\nidentificado de mi proteina es: ['XM_015901218.1']\nidentificado de mi proteina es: ['XM_015901280.1']\nidentificado de mi proteina es: ['XM_015901280.1']\nidentificado de mi proteina es: ['XM_015905693.1']\nidentificado de mi proteina es: ['XM_015901548.1']\nidentificado de mi proteina es: ['XM_015901611.1']\nidentificado de mi proteina es: ['XM_015906696.1']\nidentificado de mi proteina es: ['XM_015907728.1']\nidentificado de mi proteina es: ['XM_015901984.1']\nidentificado de mi proteina es: ['XM_015901984.1']\nidentificado de mi proteina es: ['XM_015901984.1']\nidentificado de mi proteina es: ['XM_015901984.1']\nidentificado de mi proteina es: ['XM_015902099.1']\nidentificado de mi proteina es: ['XM_015902207.1']\nidentificado de mi proteina es: ['XM_015902306.1']\nidentificado de mi proteina es: ['XM_015908743.1']\nidentificado de mi proteina es: ['XM_015909753.1']\nidentificado de mi proteina es: ['XM_015902476.1']\nidentificado de mi proteina es: ['XM_015902407.1']\nidentificado de mi proteina es: ['XM_015902876.1']\nidentificado de mi proteina es: ['XM_015902773.1']\nidentificado de mi proteina es: ['XM_015910767.1']\nidentificado de mi proteina es: ['XM_015902659.1']\nidentificado de mi proteina es: ['XM_015902659.1']\nidentificado de mi proteina es: ['XM_015902659.1']\nidentificado de mi proteina es: ['XM_015902659.1']\nidentificado de mi proteina es: ['XM_015902659.1']\nidentificado de mi proteina es: ['MSTRG.26.2']\nidentificado de mi proteina es: ['MSTRG.26.2']\nidentificado de mi proteina es: ['MSTRG.26.2']\nidentificado de mi proteina es: ['MSTRG.26.2']\nidentificado de mi proteina es: ['XM_015903190.1']\nidentificado de mi proteina es: ['XM_015903087.1']\nidentificado de mi proteina es: ['XM_015902979.1']\nidentificado de mi proteina es: ['XM_015903294.1']\nidentificado de mi proteina es: ['XM_015903294.1']\nidentificado de mi proteina es: ['XM_015911794.1']\nidentificado de mi proteina es: ['MSTRG.30.1']\nidentificado de mi proteina es: ['XM_015903390.1']\nidentificado de mi proteina es: ['XM_015903390.1']\nidentificado de mi proteina es: ['XM_015903390.1']\nidentificado de mi proteina es: ['XM_015903390.1']\nidentificado de mi proteina es: ['XM_015903390.1']\nidentificado de mi proteina es: ['XM_015903486.1']\nidentificado de mi proteina es: ['XM_015903586.1']\nidentificado de mi proteina es: ['MSTRG.35.1']\n",
     "output_type": "stream"
    }
   ],
   "execution_count": null
  },
  {
   "cell_type": "code",
   "source": "",
   "metadata": {
    "cell_id": "8729249519bc4da78311de87a38f1d4e",
    "tags": [],
    "deepnote_cell_type": "code",
    "deepnote_cell_height": 61
   },
   "outputs": [],
   "execution_count": null
  },
  {
   "cell_type": "markdown",
   "source": "<a style='text-decoration:none;line-height:16px;display:flex;color:#5B5B62;padding:10px;justify-content:end;' href='https://deepnote.com?utm_source=created-in-deepnote-cell&projectId=33267e01-2d11-4dd1-baf2-c7373ecbb65e' target=\"_blank\">\n<img alt='Created in deepnote.com' style='display:inline;max-height:16px;margin:0px;margin-right:7.5px;' src='data:image/svg+xml;base64,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' > </img>\nCreated in <span style='font-weight:600;margin-left:4px;'>Deepnote</span></a>",
   "metadata": {
    "tags": [],
    "created_in_deepnote_cell": true,
    "deepnote_cell_type": "markdown"
   }
  }
 ],
 "nbformat": 4,
 "nbformat_minor": 2,
 "metadata": {
  "orig_nbformat": 2,
  "deepnote": {},
  "deepnote_notebook_id": "9295284a-17ae-4371-8449-486ff4a5f609",
  "deepnote_execution_queue": []
 }
}