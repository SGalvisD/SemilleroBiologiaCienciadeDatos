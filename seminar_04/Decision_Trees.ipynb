{
 "cells": [
  {
   "cell_type": "markdown",
   "id": "a5adf826",
   "metadata": {
    "cell_id": "823b9a72559949eda099c36c08e2dd85",
    "deepnote_cell_height": 217.43333435058594,
    "deepnote_cell_type": "markdown",
    "tags": []
   },
   "source": [
    "# 1. Aprendizaje automático supervisado vs. no-supervisado\n",
    "En los capítulos IV y V hemos realizado machine learning. Se utilizó Scikit-Learn con los algoritmos de tipo supervisado para predecir los precios de las viviendas (problema de regresión) y la malignidad de un cáncer (problema de clasificación). Pero vamos a estructurar un poco este conocimiento y dibujarlo en forma de árbol para un mejor overview. "
   ]
  },
  {
   "cell_type": "markdown",
   "id": "077ee372",
   "metadata": {
    "cell_id": "08e26ba9463e4178bd2916170807f217",
    "deepnote_cell_height": 70.23333740234375,
    "deepnote_cell_type": "markdown",
    "tags": []
   },
   "source": [
    "![](imgs/sup_unsup.png)"
   ]
  },
  {
   "cell_type": "markdown",
   "id": "fc8d3edf",
   "metadata": {
    "cell_id": "cccb6e5917ce4309a6f12bfe9acadd9f",
    "deepnote_cell_height": 464.29998779296875,
    "deepnote_cell_type": "markdown",
    "tags": []
   },
   "source": [
    "* Aprendizaje supervisado: En los problemas de aprendizaje supervisado, los modelos predictivos se crean a partir de un conjunto de registros de entrada con datos de salida (etiquetas). Según el tipo de etiqueta los problemas de aprendizaje supervisado se pueden dividir en dos tipos diferentes:\n",
    "    * Regresión: Cuando la variable de resultado (etiqueta) es una variable continua\n",
    "    * Clasificación: Cuando la variable de resultado (etiqueta) es una variable discreta\n",
    "* Aprendizaje no supervisado: En el aprendizaje no supervisado, los patrones o estructuras se encuentran en los datos y se etiquetan adecuadamente.\n",
    "\n",
    "Imaginemos que un extraterrestre llega a la tierra y queremos enseñarle diferentes frutas. Le mostramos 10 bananas, 10 manzanas y 10 peras (porque las frutas pueden ser de la misma especie pero se ven un poco diferentes) cada vez diciendo: \"esto es banana / esto es manzana / esto es una pera\". Para comprobar si el extraterrestre aprendió, podríamos mostrarle alguna fruta (diferente manzana o banana o pera, que el extraterrestre no haya visto durante el entrenamiento) y preguntarle qué fruta es. Ese es un entrenamiento supervisado, porque durante el entrenamiento decimos el nombre de cada fruta. (Los algoritmos más populares para problemas supervisados son: \"Arboles de Decisión\", \"Bosque Aleatorio\", \"Support Vector Machines (SVM)\", \"Redes Neuronales\".)\n",
    "\n",
    "En un entrenamiento no-supervisado mezclaríamos 30 frutas (10 plátanos, 10 manzanas y 10 peras) y le pediríamos al extraterrestre que las separara en tres grupos. Ahora no es importante cuáles son los nombres de las frutas, pero la tarea es encontrar similitudes entre cada uno de los tres tipos de frutas y agruparlas - clustering (el plátano puede ser verde o amarillo, pequeño o largo, pero siempre se ve diferente a una manzana o pera). (El algoritmo más popular para problemas no-supervisados es \"k-means\")\n",
    "\n",
    "\n"
   ]
  },
  {
   "cell_type": "markdown",
   "id": "7f71f4f1",
   "metadata": {
    "cell_id": "194a3a94-5565-466b-87fd-8ec586132363",
    "deepnote_cell_height": 210.23333740234375,
    "deepnote_cell_type": "markdown"
   },
   "source": [
    "# 2. Redes neuronales vs. Árboles de decisión\n",
    "\n",
    "El segundo curso del Diplomado en Big Data se centrará en las redes neuronales porque son una de las herramientas más poderosas de la colección Machine Learning (ML). Las redes neuronales reflejan el comportamiento del cerebro humano, lo que permite que los programas informáticos reconozcan patrones y resuelvan problemas comunes de aprendizaje automático con una precisión sin precedentes. Son prácticamente imbatibles en la mayoría de los campos del ML, tanto en aprendizaje supervisado (problemas de Clasificación y Regresión) como en aprendizaje no supervisado.\n"
   ]
  },
  {
   "cell_type": "markdown",
   "id": "bec92ee2",
   "metadata": {
    "cell_id": "00001-56efaee8-87af-45ab-83ce-dda1f8695954",
    "deepnote_cell_height": 75.03334045410156,
    "deepnote_cell_type": "markdown"
   },
   "source": [
    "Dicho lo anterior, es natural preguntarse, ¿de qué sirve aprender otros métodos? ¿Podría decirse que la ANN (Artificial Neural Network,por sus siglas en inglés) es una herramienta universal adecuada para resolver todos los problemas?"
   ]
  },
  {
   "cell_type": "markdown",
   "id": "45da36b7",
   "metadata": {
    "cell_id": "00002-43bd2546-a0c4-403c-87ec-0f9825d4d036",
    "deepnote_cell_height": 119.83332824707031,
    "deepnote_cell_type": "markdown"
   },
   "source": [
    "La respuesta es que hay varias situaciones en las que es mejor usar herramientas diferentes a NN (Neural Network, por sus siglas en inglés). Por ejemplo, las máquinas de vectores de soporte (SVM) funcionan mejor que NN cuando se trata de conjuntos de datos pequeños. También existe una herramienta llamada árboles de decisión, cuya función es complementar una de las mayores limitaciones de las redes neuronales: la interpretabilidad de los resultados."
   ]
  },
  {
   "cell_type": "markdown",
   "id": "109c8c9d",
   "metadata": {
    "cell_id": "00003-36e9c57e-d0fa-401a-9d53-a52037ea2e8a",
    "deepnote_cell_height": 75.03334045410156,
    "deepnote_cell_type": "markdown"
   },
   "source": [
    "La red neuronal es una caja negra (black box): es más fácil comprender el comportamiento del cerebro humano utilizando resonancia magnética, que intentar interpretar los resultados proporcionados por NN."
   ]
  },
  {
   "cell_type": "markdown",
   "id": "8d1503f0",
   "metadata": {
    "cell_id": "00004-1b7f0e56-51ea-4793-a611-ea9da6d1d3e9",
    "deepnote_cell_height": 142.23333740234375,
    "deepnote_cell_type": "markdown"
   },
   "source": [
    "Imagine una situación en la que un banco utiliza un algoritmo de aprendizaje automático para predecir si su nuevo cliente puede obtener un préstamo de ellos o no. Si el algoritmo decide que el solicitante no puede obtener un préstamo, es importante que el banco y, en particular, el cliente comprendan por qué se ha rechazado y cómo el cliente puede mejorar para su próxima aplicación. Dado que los resultados proporcionados por NN no son fácilmente interpretables, el banco debe utilizar una herramienta que permita una mayor comprensión de sus predicciones. Aquí es donde entran los  árboles de decisión."
   ]
  },
  {
   "cell_type": "markdown",
   "id": "88d3a510",
   "metadata": {
    "cell_id": "00005-819c1a75-76b5-4097-bc97-fcc84c67bd64",
    "deepnote_cell_height": 522.6666870117188,
    "deepnote_cell_type": "markdown"
   },
   "source": [
    "Los árboles de decisión tienen varias ventajas:\n",
    "- Son fáciles de entender, interpretar y visualizar. \n",
    "- Los árboles de decisión se pueden utilizar para predecir valores continuos y discretos, es decir, funcionan bien tanto en tareas de regresión como de clasificación (1).\n",
    "- No requieren normalización o escalado de características, ya que son \"invariantes a la escala\".\n",
    "- Son muy rápidos y eficientes en comparación con otros algoritmos.\n",
    "- Pueden manejar cualquier tipo de datos, ya sean numéricos, categóricos o booleanos.\n",
    "- Dan una idea sobre la importancia relativa de los atributos.\n",
    "- Son útiles en la exploración de datos: un árbol de decisiones es una de las formas más rápidas de identificar las variables más significativas y las relaciones entre dos o más variables. Además, tienen una función con la que podemos crear nuevas características para la variable de resultado.\n",
    "- Se necesita menos preparación de datos: en el árbol de decisión no hay ningún efecto por parte de los valores atípicos, ni de los faltantes; por tanto, no es necesario preprocesarlos.\n",
    "\n",
    "Los árboles de decisión también tienen algunas desventajas: \n",
    "\n",
    "* Pueden ser inestables y producir resultados diferentes a partir de un pequeño cambio de entrada.\n",
    "* Pueden ser imprecisos.\n",
    "* No se pueden usar en big data: si el tamaño de los datos es demasiado grande, un solo árbol puede hacer crecer muchos nodos, lo que puede resultar complejo y conducir a un sobreajuste."
   ]
  },
  {
   "cell_type": "markdown",
   "id": "e0f01222",
   "metadata": {
    "cell_id": "00006-e2d79d5f-7c3c-4d83-a445-9f5271c7d61d",
    "deepnote_cell_height": 82.23333740234375,
    "deepnote_cell_type": "markdown"
   },
   "source": [
    "# 3. Cómo funcionan los árboles de decisión"
   ]
  },
  {
   "cell_type": "markdown",
   "id": "b134c384",
   "metadata": {
    "cell_id": "00007-341b8cfc-4bf4-46e1-a5ae-57cf900f092e",
    "deepnote_cell_height": 458.6333312988281,
    "deepnote_cell_type": "markdown"
   },
   "source": [
    "Un árbol de decisión es un tipo de algoritmo de aprendizaje automático que se utiliza para hacer predicciones basadas en cómo se respondió a un conjunto anterior de preguntas. Puede usarse tanto para un problema de clasificación como para un problema de regresión (en el módulo cuatro vimos árboles de decisión en acción, demostrando ser una herramienta poderosa que vale la pena comprender).\n",
    "\n",
    "¿Qué significa conjunto anterior de \"preguntas\" respondidas?\n",
    "En la práctica, significa múltiples registros de datos de entrada asociados con cierta salida (resultado). Exactamente lo mismo que en el caso de las características de una vivienda correspondiente a un determinado precio. Luego, prediciendo el precio de una casa con con características que no se conocían anteriormente. \n",
    "\n",
    "En apartados anteriores pudo verse cómo el modelo de tipo regresión minimizaba los residuos para encontrar los coeficientes. Lo anterior, en lenguaje de aprendizaje automático, se denomina proceso de entrenamiento del modelo.\n",
    "\n",
    "Los árboles de decisión utilizan un algoritmo diferente. Para entenderlo mejor, veamos un ejemplo:  \n",
    "\n",
    "Suponga que un investigador médico ha recopilado datos sobre un conjunto de catorce pacientes, los cuales padecían la misma enfermedad. Durante el tratamiento, cada paciente respondió a uno de los dos medicamentos. Parte del trabajo del médico consistía en utilizar la minería de datos para averiguar qué medicamento podría ser apropiado para un futuro paciente (decimoquinto) con la misma enfermedad (2).\n",
    "\n",
    "Se registraron las siguientes características de cada paciente del conjunto de datos:\n",
    "(https://www.kaggle.com/datasets/7f7bebbb020855aa344d19f2ce710e0128ec750263fc868840aa835eaf4cec05, https://www.analyticsvidhya.com/blog/2021/02/machine-learning-101-decision-tree-algorithm-for-classification/) DATA Source: IBM"
   ]
  },
  {
   "cell_type": "markdown",
   "id": "7bf126ec",
   "metadata": {
    "cell_id": "00008-1157ace2-88eb-4d88-b75a-a991f99c29bb",
    "deepnote_cell_height": 159.8333282470703,
    "deepnote_cell_type": "markdown"
   },
   "source": [
    "![img](imgs/DATA_TABLE_I.png)\n",
    "\n",
    "*El conjunto de datos original (que analizaremos más adelante) es ligeramente diferente: la columna \"AGE\" contiene valores numéricos, y hay una columna \"Na_to_K\" que representa la proporción de sodio a potasio en la sangre del paciente. El siguiente conjunto de datos se simplifica para fines de demostración, ya que los datos serán analizados dibujando los árboles de decisión \"manualmente\", lo cual es tedioso con conjuntos de datos grandes o complejos."
   ]
  },
  {
   "cell_type": "markdown",
   "id": "a0cecf14",
   "metadata": {
    "cell_id": "00009-22908994-6aa9-4e47-8c22-c98f4d787471",
    "deepnote_cell_height": 174.06666564941406,
    "deepnote_cell_type": "markdown"
   },
   "source": [
    "* Age: Young, Middle-Age, Senior (ranges chosen arbitrarily, for simplicity). \n",
    "* Sex: M or F. \n",
    "* Blood pressure: HIGH or NORMAL or LOW.  \n",
    "* Level of cholesterol: NORMAL or HIGH.\n",
    "* Drug: prescription drug to which the patient responded:  drug A, drug B. "
   ]
  },
  {
   "cell_type": "markdown",
   "id": "03558386",
   "metadata": {
    "cell_id": "00010-99507958-15cb-48db-8a87-7672b836626f",
    "deepnote_cell_height": 75.03334045410156,
    "deepnote_cell_type": "markdown"
   },
   "source": [
    "Los árboles de decisión se construyen dividiendo el conjunto de entrenamiento en nodos distintos que contienen una categoría de datos (2). Los nodos se pueden dividir, aún más, con las nuevas categorías de datos tomando la forma de un árbol al revés."
   ]
  },
  {
   "cell_type": "markdown",
   "id": "b84886c8",
   "metadata": {
    "cell_id": "00011-f538cb7c-113d-4ff9-b114-d43d0b12387d",
    "deepnote_cell_height": 97.43333435058594,
    "deepnote_cell_type": "markdown"
   },
   "source": [
    "En este caso particular del conjunto de datos de respuesta a fármacos, el árbol de decisión es un clasificador de pacientes: dependiendo de las características de los pacientes anteriores, respondieron a diferentes fármacos. El objetivo sería tomar un nuevo paciente y, siguiendo la estructura de árbol, asignarle el fármaco adecuado."
   ]
  },
  {
   "cell_type": "markdown",
   "id": "c62a36e7",
   "metadata": {
    "cell_id": "00012-ea5405de-e8b8-4ea6-8aa0-6342cb3fa6ca",
    "deepnote_cell_height": 52.633331298828125,
    "deepnote_cell_type": "markdown"
   },
   "source": [
    "Dibujemos un árbol de decisión para este problema:"
   ]
  },
  {
   "cell_type": "markdown",
   "id": "b73dd815",
   "metadata": {
    "cell_id": "00013-7f4187d6-40c4-4ace-a05e-b0fe5daed456",
    "deepnote_cell_height": 70.23333740234375,
    "deepnote_cell_type": "markdown"
   },
   "source": [
    "![img](imgs/age_sex_col_I.png)"
   ]
  },
  {
   "cell_type": "markdown",
   "id": "a0ffe3eb",
   "metadata": {
    "cell_id": "00014-fcb46561-545c-4cdb-afb7-4d9a8dd488cf",
    "deepnote_cell_height": 142.23333740234375,
    "deepnote_cell_type": "markdown"
   },
   "source": [
    "Si, por ejemplo, el nuevo paciente es de mediana edad, entonces el fármaco B sería el adecuado (porque todos los pacientes de mediana edad, independientemente de la edad, el sexo y el colesterol, respondieron igual de bien al fármaco B; pero si es joven y mujer, el fármaco A sería mejor, y si es joven y masculino, es mejor el fármaco B. Por lo tanto, los árboles de decisión son decisiones de ramificación basadas en características. Esto tiene sentido porque el nivel de colesterol sería más importante para las personas mayores, y el sexo sería más importante para los jóvenes."
   ]
  },
  {
   "cell_type": "markdown",
   "id": "72c611a3",
   "metadata": {
    "cell_id": "00016-e90b10f7-aad3-4e2b-9af9-cfbaf6f0bba2",
    "deepnote_cell_height": 156.23333740234375,
    "deepnote_cell_type": "markdown"
   },
   "source": [
    "Existen tres tipos de nodos de los árboles de decisión (niveles de división):\n",
    "\n",
    "• Root node (Nodo raíz): primer nodo en la ruta desde la cual comenzaron todas las decisiones inicialmente.\n",
    "• Decision node (Nodos de decisión): nodos que tienen 1 nodo arriba y se dividen en nodos de decisión o de hoja.\n",
    "• Leaf node (Nodos hoja): nodos que no se dividen más. Son los nodos que producen la predicción.\n",
    "• Profundidad máxima: número máximo de ramas entre el extremo superior e inferior.\n"
   ]
  },
  {
   "cell_type": "markdown",
   "id": "77a57a79",
   "metadata": {
    "cell_id": "00017-b377bc30-19a9-4816-996e-ea81468b71bd",
    "deepnote_cell_height": 70.23333740234375,
    "deepnote_cell_type": "markdown"
   },
   "source": [
    "![img](imgs/decision_tree_II.png)"
   ]
  },
  {
   "cell_type": "markdown",
   "id": "58e2bb18",
   "metadata": {
    "cell_id": "00018-61f85c0a-866c-4392-b8c0-22b29923964c",
    "deepnote_cell_height": 75.03334045410156,
    "deepnote_cell_type": "markdown"
   },
   "source": [
    "En el árbol de decisión anterior, AGE es el root node y la división es perfecta. Pero, ¿qué pasaría si el colesterol o el sexo fueran el root node? Comparemos:"
   ]
  },
  {
   "cell_type": "markdown",
   "id": "5a345b9d",
   "metadata": {
    "cell_id": "00019-0a931459-e94f-42a4-bd9d-96d478422ddb",
    "deepnote_cell_height": 70.23333740234375,
    "deepnote_cell_type": "markdown"
   },
   "source": [
    "![img](imgs/colesterol_II.png)"
   ]
  },
  {
   "cell_type": "markdown",
   "id": "ddc453aa",
   "metadata": {
    "cell_id": "00020-ed7483bf-1490-44e3-b504-5d34276a1ce0",
    "deepnote_cell_height": 170.23333740234375,
    "deepnote_cell_type": "markdown"
   },
   "source": [
    "Entonces, si dividimos a los pacientes según el nivel de COLESTEROL podemos ver que:\n",
    "\n",
    "• De los pacientes con colesterol alto, tres personas respondieron al fármaco A y tres respondieron al fármaco B, por lo que, si viene un nuevo paciente y tiene el colesterol alto, no está claro qué fármaco prescribir; la incertidumbre es máxima.\n",
    "\n",
    "• De los pacientes con colesterol normal, dos personas respondieron al fármaco A y seis respondieron al fármaco B, por lo que, si llega un nuevo paciente y tiene el colesterol normal probablemente prescribiríamos el fármaco B; la incertidumbre es menor.\n"
   ]
  },
  {
   "cell_type": "markdown",
   "id": "9e10c61c",
   "metadata": {
    "cell_id": "00021-9623a56e-a3ee-4756-96ed-86e04fa4bd1f",
    "deepnote_cell_height": 70.23333740234375,
    "deepnote_cell_type": "markdown"
   },
   "source": [
    "![img](imgs/sex_I.png)"
   ]
  },
  {
   "cell_type": "markdown",
   "id": "f146fe1d",
   "metadata": {
    "cell_id": "00022-5e4662b8-bfe1-477f-a1fd-2a59de11f982",
    "deepnote_cell_height": 170.23333740234375,
    "deepnote_cell_type": "markdown"
   },
   "source": [
    "Y si dividimos a los pacientes en función del sexo podemos ver que:\n",
    "\n",
    "• De las pacientes mujeres, cuatro respondieron al fármaco A y tres respondieron al fármaco B; por tanto, para la nueva paciente probablemente prescribiríamos el fármaco A, con alta incertidumbre.\n",
    "\n",
    "• De los pacientes masculinos, uno respondió al fármaco A y seis respondieron al fármaco B, por lo que, al nuevo paciente masculino probablemente se le recete el fármaco B; la incertidumbre es baja.\n"
   ]
  },
  {
   "cell_type": "markdown",
   "id": "fa3b6984",
   "metadata": {
    "cell_id": "00023-9861da84-6615-4bf3-8e4c-31c8b8dfecdc",
    "deepnote_cell_height": 97.43333435058594,
    "deepnote_cell_type": "markdown"
   },
   "source": [
    "A partir de la información anterior, se infiere que el sexo es una mejor característica para la división inicial porque los árboles de hoja parecen más puros que en el caso del colesterol. De hecho, podríamos dividir aún más el mismo árbol para obtener hojas más puras. Esa es la idea detrás de los árboles de decisión: obtener la máxima pureza en los nodos hoja."
   ]
  },
  {
   "cell_type": "markdown",
   "id": "55c24296",
   "metadata": {
    "cell_id": "00024-bcab5030-a663-4802-8b78-690654e522f0",
    "deepnote_cell_height": 115.03334045410156,
    "deepnote_cell_type": "markdown"
   },
   "source": [
    "![img](imgs/sex_age_II.png)\n",
    "*las ramas más bajas no tienen datos suficientes para ser estadísticamente representativas*"
   ]
  },
  {
   "cell_type": "markdown",
   "id": "7638c197",
   "metadata": {
    "cell_id": "00025-f4aa34d4-0c9d-4343-af93-2a04c373ee00",
    "deepnote_cell_height": 170.23333740234375,
    "deepnote_cell_type": "markdown"
   },
   "source": [
    "Por lo tanto, el orden de las características que constituyen los árboles de decisión es crucial porque determina los resultados y sus incertidumbres.\n",
    "\n",
    "Entonces, ¿cuál es el mejor orden para dividir las características del árbol? ¿Cuál es la forma cuantitativa de decir qué característica da resultados más puros?\n",
    "\n",
    "Existe tal cantidad y se llama Entropía."
   ]
  },
  {
   "cell_type": "markdown",
   "id": "56636d01",
   "metadata": {
    "cell_id": "00026-d5f27210-382a-4c8d-bf39-9228132ec7d3",
    "deepnote_cell_height": 89.11666870117188,
    "deepnote_cell_type": "markdown"
   },
   "source": [
    "$$ E(S) = \\sum_{i=1}^{n} -p_i log_{2}p_i$$\n",
    "\n",
    "*Esta ecuación se llama entropía de Shannon."
   ]
  },
  {
   "cell_type": "markdown",
   "id": "ed2a7a76",
   "metadata": {
    "cell_id": "00027-f8b7f273-e3ac-4db3-b2a6-dc172fb724f6",
    "deepnote_cell_height": 75.03334045410156,
    "deepnote_cell_type": "markdown"
   },
   "source": [
    "La ecuación queda así: la entropía de un conjunto “S” se define como la sumatoria de la probabilidad “p” de un resultado “i”, que va de 1…n, por el logaritmo (de base 2) de esa probabilidad “p” del resultado “i”."
   ]
  },
  {
   "cell_type": "markdown",
   "id": "11096b16",
   "metadata": {
    "cell_id": "00028-6e2a3c25-c5e4-48ae-92dc-2b2aa45f9844",
    "deepnote_cell_height": 52.633331298828125,
    "deepnote_cell_type": "markdown"
   },
   "source": [
    "En el caso de que solo haya dos resultados posibles, por ejemplo, el fármaco A y el fármaco B, la suma contiene solo dos términos:"
   ]
  },
  {
   "cell_type": "markdown",
   "id": "df420dfd",
   "metadata": {
    "cell_id": "00029-68742260-b4c6-41ad-85a4-d73e82f7b75d",
    "deepnote_cell_height": 52.71665954589844,
    "deepnote_cell_type": "markdown"
   },
   "source": [
    "$$ E(S) = -p(drug A) \\times log_{2} (p(drug A)) - p(drug B) \\times log_{2}(p(drug B))$$"
   ]
  },
  {
   "cell_type": "markdown",
   "id": "23890d56",
   "metadata": {
    "cell_id": "00030-fa0b0bad-637a-4c53-8fef-292fad85f659",
    "deepnote_cell_height": 130.5,
    "deepnote_cell_type": "markdown"
   },
   "source": [
    "Calcular las probabilidades es fácil:\n",
    "\n",
    "p(drug A)= $\\frac{number \\ of \\ patients \\ that \\ responded \\ to \\ drug A}{total \\ number \\ of \\ patients}$\n",
    "\n",
    "p(drug B)= $\\frac{number \\ of \\ patients \\ that \\ responded \\ to \\ drug B}{total \\ number \\ of \\ patients}$"
   ]
  },
  {
   "cell_type": "markdown",
   "id": "d2517a55",
   "metadata": {
    "cell_id": "00031-ef71548e-1a7b-47e5-9d20-dfa02dbf2ec9",
    "deepnote_cell_height": 52.633331298828125,
    "deepnote_cell_type": "markdown"
   },
   "source": [
    "De lo anterior, está claro que el valor de la probabilidad siempre estará entre 0 y 1."
   ]
  },
  {
   "cell_type": "markdown",
   "id": "dedc5d8f",
   "metadata": {
    "cell_id": "00032-4bec3c31-b534-4a50-abb0-c8632a8a04a0",
    "deepnote_cell_height": 75.03334045410156,
    "deepnote_cell_type": "markdown"
   },
   "source": [
    "Tomemos, por ejemplo, una situación en la que de un grupo de 7 pacientes 3 respondieron al fármaco A y 4 al fármaco B (como en el ejemplo anterior: decision node: SEX, leaf node F). Calculemos la entropía de esta situación:"
   ]
  },
  {
   "cell_type": "code",
   "execution_count": null,
   "id": "fbdc22bd",
   "metadata": {
    "cell_id": "b93b9fd57df446fa90874c38c66cfdbf",
    "deepnote_cell_height": 125.66667175292969,
    "deepnote_cell_type": "code",
    "deepnote_to_be_reexecuted": false,
    "execution_millis": 3,
    "execution_start": 1666213493018,
    "source_hash": "2c883719",
    "tags": []
   },
   "outputs": [
    {
     "name": "stdout",
     "output_type": "stream",
     "text": [
      "Entropy of the system: 0.99\n"
     ]
    }
   ],
   "source": [
    "import numpy as np\n",
    "print(f'Entropy of the system: {-(3/7)*np.log2(3/7) -(4/7)*np.log2(4/7):.2f}')"
   ]
  },
  {
   "cell_type": "markdown",
   "id": "c6490740",
   "metadata": {
    "cell_id": "00033-ab45dfeb-164e-43ab-a406-92ddf6e78e8a",
    "deepnote_cell_height": 52.94999694824219,
    "deepnote_cell_type": "markdown"
   },
   "source": [
    "$$ - \\left(\\frac{3}{7}\\right) \\times log_2\\left(\\frac{3}{7}\\right) - \\left(\\frac{4}{7}\\right)\\times log_2 \\left(\\frac{4}{7}\\right) \\approx 0.98$$"
   ]
  },
  {
   "cell_type": "markdown",
   "id": "d92b2344",
   "metadata": {
    "cell_id": "9d4fb7a8a2894f298fd16e84a7c3486a",
    "deepnote_cell_height": 75.03334045410156,
    "deepnote_cell_type": "markdown",
    "tags": []
   },
   "source": [
    "La entropía aquí es de aproximadamente 0.98. Esto se considera una alta entropía, un alto nivel de desorden (lo que significa un bajo nivel de pureza)."
   ]
  },
  {
   "cell_type": "markdown",
   "id": "4d167e64",
   "metadata": {
    "cell_id": "1e0baa8d20854480a268fdf7224bb503",
    "deepnote_cell_height": 75.03334045410156,
    "deepnote_cell_type": "markdown",
    "tags": []
   },
   "source": [
    "Otro ejemplo. De un grupo de 7 pacientes 1 respondió al fármaco A y 6 al fármaco B (como en el ejemplo anterior: decision node: SEX, leaf node M). Calculemos la entropía de esta situación:"
   ]
  },
  {
   "cell_type": "code",
   "execution_count": null,
   "id": "7a4d113d",
   "metadata": {
    "cell_id": "507f55f588ef4fcc80e69f5de52bb704",
    "deepnote_cell_height": 125.66667175292969,
    "deepnote_cell_type": "code",
    "deepnote_to_be_reexecuted": false,
    "execution_millis": 7273192,
    "execution_start": 1666213493029,
    "source_hash": "fef1557c",
    "tags": []
   },
   "outputs": [
    {
     "name": "stdout",
     "output_type": "stream",
     "text": [
      "Entropy of the system: 0.59\n"
     ]
    }
   ],
   "source": [
    "import numpy as np\n",
    "print(f'Entropy of the system: {-(1/7)*np.log2(1/7) -(6/7)*np.log2(6/7):.2f}')"
   ]
  },
  {
   "cell_type": "markdown",
   "id": "bfbd207c",
   "metadata": {
    "cell_id": "5dc0d73a1177436685c42df4c4c66991",
    "deepnote_cell_height": 52.94999694824219,
    "deepnote_cell_type": "markdown",
    "tags": []
   },
   "source": [
    "$$ - \\left(\\frac{1}{7}\\right) \\times log_2\\left(\\frac{1}{7}\\right) - \\left(\\frac{6}{7}\\right)\\times log_2 \\left(\\frac{6}{7}\\right) \\approx 0.59$$"
   ]
  },
  {
   "cell_type": "markdown",
   "id": "bae2170d",
   "metadata": {
    "cell_id": "6cd51d1b7ec04443a32c0d7557a61575",
    "deepnote_cell_height": 52.633331298828125,
    "deepnote_cell_type": "markdown",
    "tags": []
   },
   "source": [
    "La entropía aquí es de aproximadamente 0.59, que es más baja que en el caso de otro leaf node F, lo que significa más alto nivel de pureza."
   ]
  },
  {
   "cell_type": "markdown",
   "id": "11674297",
   "metadata": {
    "cell_id": "00035-7e351b7c-f743-4d68-a99c-022142e2af65",
    "deepnote_cell_height": 75.03334045410156,
    "deepnote_cell_type": "markdown"
   },
   "source": [
    "La entropía es una medida de desorden o incertidumbre, y el objetivo de los modelos de aprendizaje automático y los científicos de datos, en general, es el de reducir la incertidumbre, porque cuanto menor es la incertidumbre, mayor es el conocimiento requerido para tomar la decisión."
   ]
  },
  {
   "cell_type": "markdown",
   "id": "8e84ac49",
   "metadata": {
    "cell_id": "00036-398d71cd-582c-489b-ad1a-413bb8e40f50",
    "deepnote_cell_height": 139.8333282470703,
    "deepnote_cell_type": "markdown"
   },
   "source": [
    "* Si la entropía de la mezcla de dos grupos es 1.0, significa que la mezcla contiene cantidad IGUAL de uno y del otro grupo (50/50), o en términos de probabilidad 0.5.\n",
    "\n",
    "* Si la entropía de la mezcla de dos grupos es 0.0, significa que la mezcla contiene elementos de SOLO uno de los grupos, o en términos de probabilidad 0.0 o 1.0"
   ]
  },
  {
   "cell_type": "markdown",
   "id": "52affca1",
   "metadata": {
    "cell_id": "00037-d9f0a0ac-7aea-4a26-aa9b-16490d6f37eb",
    "deepnote_cell_height": 70.23333740234375,
    "deepnote_cell_type": "markdown"
   },
   "source": [
    "![img](imgs/entropy01_II.png)"
   ]
  },
  {
   "cell_type": "markdown",
   "id": "06d1ccbe",
   "metadata": {
    "cell_id": "15b3c9fa999f4324807f8bee9d254d80",
    "deepnote_cell_height": 92.60000610351562,
    "deepnote_cell_type": "markdown",
    "tags": []
   },
   "source": [
    "* Dependiendo del número de clases en su conjunto de datos la entropía puede ser mayor que 1, pero significa lo mismo: un nivel muy alto de desorden. En aras de la simplicidad, los ejemplos aquí presentados tendrán entropía entre 0 y 1"
   ]
  },
  {
   "cell_type": "markdown",
   "id": "0a6ad097",
   "metadata": {
    "cell_id": "00038-f297392d-40a5-4f2d-b7f4-357d257007be",
    "deepnote_cell_height": 52.633331298828125,
    "deepnote_cell_type": "markdown"
   },
   "source": [
    "El valor de la entropía frente a la probabilidad para dos clases se puede visualizar de la siguiente manera:"
   ]
  },
  {
   "cell_type": "markdown",
   "id": "48c3fbba",
   "metadata": {
    "cell_id": "00039-99c87176-8dfc-48c7-ae38-83e7b99bee5e",
    "deepnote_cell_height": 70.23333740234375,
    "deepnote_cell_type": "markdown"
   },
   "source": [
    "![img](imgs/entropy_diagram_II.png)"
   ]
  },
  {
   "cell_type": "markdown",
   "id": "b9a6f5e7",
   "metadata": {
    "cell_id": "00040-deda1c7d-9c1e-4c31-8b99-5e810177ee36",
    "deepnote_cell_height": 97.43333435058594,
    "deepnote_cell_type": "markdown"
   },
   "source": [
    "Si bien es claro que el objetivo es obtener los leaf nodes más puros (entropía mínima), también es importante recordar que el root node debe tener la entropía más alta posible porque queremos que el conjunto de datos contenga partes iguales de cada grupo, es decir, de pacientes que respondieron al fármaco A y al fármaco B."
   ]
  },
  {
   "cell_type": "markdown",
   "id": "35ebcd2a",
   "metadata": {
    "cell_id": "00041-8128e2fc-aa24-4eab-bbf6-ad139ac57412",
    "deepnote_cell_height": 75.03334045410156,
    "deepnote_cell_type": "markdown"
   },
   "source": [
    "Repitamos el cálculo y comparemos la entropía antes y después de dividir nuestro conjunto de datos médicos utilizando dos características como root node: SEXO y COLESTEROL."
   ]
  },
  {
   "cell_type": "code",
   "execution_count": null,
   "id": "8e0679f0",
   "metadata": {
    "cell_id": "a24ccfa73196496291695bf977132d00",
    "deepnote_cell_height": 202.3000030517578,
    "deepnote_cell_type": "code",
    "deepnote_to_be_reexecuted": false,
    "execution_millis": 55,
    "execution_start": 1666213493128,
    "source_hash": "a1a642ba",
    "tags": []
   },
   "outputs": [
    {
     "name": "stdout",
     "output_type": "stream",
     "text": [
      "Entropia root node SEX: 0.94\n",
      "Entropia leaf node F: 0.99\n",
      "Entropia leaf node F: 0.59\n"
     ]
    }
   ],
   "source": [
    "print(f'Entropia root node SEX: {-(9/14)*np.log2(9/14) -(5/14)*np.log2(5/14):.2f}')\n",
    "print(f'Entropia leaf node F: {-(4/7)*np.log2(4/7) -(3/7)*np.log2(3/7):.2f}')\n",
    "print(f'Entropia leaf node F: {-(1/7)*np.log2(1/7) -(6/7)*np.log2(6/7):.2f}')\n"
   ]
  },
  {
   "cell_type": "markdown",
   "id": "fb18cde1",
   "metadata": {
    "cell_id": "00042-63b07ddd-d10f-419b-af3e-2ac90fd13e56",
    "deepnote_cell_height": 70.23333740234375,
    "deepnote_cell_type": "markdown"
   },
   "source": [
    "![img](imgs/entropy_sex_colesterol_II.png)"
   ]
  },
  {
   "cell_type": "code",
   "execution_count": null,
   "id": "0a4624bb",
   "metadata": {
    "cell_id": "3b348d018ea64a699f01d11778326a4a",
    "deepnote_cell_height": 184.3000030517578,
    "deepnote_cell_type": "code",
    "deepnote_to_be_reexecuted": false,
    "execution_millis": 59,
    "execution_start": 1666213493135,
    "source_hash": "d3e1ac4c",
    "tags": []
   },
   "outputs": [
    {
     "name": "stdout",
     "output_type": "stream",
     "text": [
      "Entropia root node CHOLESTEROL: 0.94\n",
      "Entropia leaf node HIGH: 0.81\n",
      "Entropia leaf node NORMAL: 1.00\n"
     ]
    }
   ],
   "source": [
    "print(f'Entropia root node CHOLESTEROL: {-(9/14)*np.log2(9/14) -(5/14)*np.log2(5/14):.2f}')\n",
    "print(f'Entropia leaf node HIGH: {-(2/8)*np.log2(2/8) -(6/8)*np.log2(6/8):.2f}')\n",
    "print(f'Entropia leaf node NORMAL: {-(3/6)*np.log2(3/6) -(3/6)*np.log2(3/6):.2f}')"
   ]
  },
  {
   "cell_type": "markdown",
   "id": "98b630dc",
   "metadata": {
    "cell_id": "00043-f664c93c-3510-4c22-b448-feb1edc93c06",
    "deepnote_cell_height": 97.43333435058594,
    "deepnote_cell_type": "markdown"
   },
   "source": [
    "Parece que el root node SEXO es mejor que COLESTEROL, pero nos gustaría tener otra cantidad que nos diga CUÁNTO mejor. Esa cantidad se llama ganancia de información (IG), y es la métrica que expresa la reducción de este fenómeno en nuestra variable/clase objetivo. La fórmula es la siguiente:"
   ]
  },
  {
   "cell_type": "markdown",
   "id": "5411fa1b",
   "metadata": {
    "cell_id": "00044-de2b5b9b-9b36-41d2-9380-b9ad4dcf223a",
    "deepnote_cell_height": 52.866668701171875,
    "deepnote_cell_type": "markdown"
   },
   "source": [
    "$$ IG(S,X) = E(S) - \\sum \\frac{S_v}{S} E(S_v)$$"
   ]
  },
  {
   "cell_type": "markdown",
   "id": "a6b80312",
   "metadata": {
    "cell_id": "00045-57190e98-97b0-4cab-a11d-c3d1911dfa4a",
    "deepnote_cell_height": 75.03334045410156,
    "deepnote_cell_type": "markdown"
   },
   "source": [
    "Esta fórmula es básicamente la entropía antes de la división menos la entropía ponderada después de la división. ¿Por qué ponderada? porque después de la división habrá dos nuevas clases. Calculemos la IG para los casos de SEXO y COLESTEROL:"
   ]
  },
  {
   "cell_type": "code",
   "execution_count": null,
   "id": "0c8ed1b8",
   "metadata": {
    "cell_id": "0622fd06f6304599ac4888d714308e58",
    "deepnote_cell_height": 107.66667175292969,
    "deepnote_cell_type": "code",
    "deepnote_to_be_reexecuted": false,
    "execution_millis": 56,
    "execution_start": 1666213493191,
    "source_hash": "937fc71a",
    "tags": []
   },
   "outputs": [
    {
     "name": "stdout",
     "output_type": "stream",
     "text": [
      "Information Gain: G(S,SEX): 0.15\n"
     ]
    }
   ],
   "source": [
    "print(f'Information Gain: G(S,SEX): {0.94 - ((7/14)*0.985 + (7/14)*0.592):.2f}')"
   ]
  },
  {
   "cell_type": "code",
   "execution_count": null,
   "id": "b2a80114",
   "metadata": {
    "cell_id": "754b50cf10e6448a97928063f0163405",
    "deepnote_cell_height": 107.66667175292969,
    "deepnote_cell_type": "code",
    "deepnote_to_be_reexecuted": false,
    "execution_millis": 7273258,
    "execution_start": 1666213493320,
    "source_hash": "93db8c8b",
    "tags": []
   },
   "outputs": [
    {
     "name": "stdout",
     "output_type": "stream",
     "text": [
      "Information Gain: IG(S,CHOLESTEROL): 0.05\n"
     ]
    }
   ],
   "source": [
    "print(f'Information Gain: IG(S,CHOLESTEROL): {0.94 - ((8/14)*0.81 + (6/14)*1.0):.2f}')"
   ]
  },
  {
   "cell_type": "markdown",
   "id": "bc3a7516",
   "metadata": {
    "cell_id": "00046-a4a26f72-68d0-4d80-9874-e8028f6a3575",
    "deepnote_cell_height": 70.23333740234375,
    "deepnote_cell_type": "markdown"
   },
   "source": [
    "![img](imgs/IG_sex_colesterol_I.png)"
   ]
  },
  {
   "cell_type": "markdown",
   "id": "f5a33114",
   "metadata": {
    "cell_id": "00047-6762d0a1-77a2-4a0a-a1c9-d906f4256139",
    "deepnote_cell_height": 97.43333435058594,
    "deepnote_cell_type": "markdown"
   },
   "source": [
    "Ahora está claro que SEXO es mejor atributo que COLESTEROL.  IG(S,SEXO) = 0,151 > IG(S,COLESTEROL) = 0,05, y usando SEXO como root node aumentamos más información sobre los datos. El siguiente paso sería elegir otro nodo de decisión debajo de los nodos Femenino y Masculino, repitiendo el cálculo y comparando la IG."
   ]
  },
  {
   "cell_type": "markdown",
   "id": "343c2fb8",
   "metadata": {
    "cell_id": "00048-1d9f81d6-53a3-42aa-8005-c355512c7e3e",
    "deepnote_cell_height": 75.03334045410156,
    "deepnote_cell_type": "markdown"
   },
   "source": [
    "Dicho procedimiento debe implementarse numéricamente, ya que hacer los cálculos a mano sería muy tedioso. Usemos Scikit-Learn Decision Trees en el conjunto de datos médicos e interpretemos los resultados."
   ]
  },
  {
   "cell_type": "markdown",
   "id": "203035fc",
   "metadata": {
    "cell_id": "16380b613f1245f78e1814e15e3938cd",
    "deepnote_cell_height": 82.23333740234375,
    "deepnote_cell_type": "markdown",
    "tags": []
   },
   "source": [
    "# 4. Implementación numérica usando Scikit-Learn"
   ]
  },
  {
   "cell_type": "markdown",
   "id": "b9588fa5",
   "metadata": {
    "cell_id": "00049-19364939-6e40-4d90-a71e-ac16910625e7",
    "deepnote_cell_height": 52.633331298828125,
    "deepnote_cell_type": "markdown"
   },
   "source": [
    "Anteriormente utilizamos un conjunto de datos simplificado a modo de ejemplo, ahora podemos usar los registros originales completos:"
   ]
  },
  {
   "cell_type": "code",
   "execution_count": null,
   "id": "e05b27d3",
   "metadata": {
    "cell_id": "00050-6bec1d6a-4dfb-4ecf-ac46-fc6207ae6e7e",
    "deepnote_cell_height": 444.4666748046875,
    "deepnote_cell_type": "code",
    "deepnote_to_be_reexecuted": false,
    "execution_millis": 267,
    "execution_start": 1666213493378,
    "source_hash": "6dbb544d"
   },
   "outputs": [
    {
     "data": {
      "application/vnd.deepnote.dataframe.v3+json": {
       "column_count": 6,
       "columns": [
        {
         "dtype": "int64",
         "name": "Age",
         "stats": {
          "histogram": [
           {
            "bin_end": 26.8,
            "bin_start": 23,
            "count": 1
           },
           {
            "bin_end": 30.6,
            "bin_start": 26.8,
            "count": 1
           },
           {
            "bin_end": 34.4,
            "bin_start": 30.6,
            "count": 0
           },
           {
            "bin_end": 38.2,
            "bin_start": 34.4,
            "count": 0
           },
           {
            "bin_end": 42,
            "bin_start": 38.2,
            "count": 0
           },
           {
            "bin_end": 45.8,
            "bin_start": 42,
            "count": 0
           },
           {
            "bin_end": 49.599999999999994,
            "bin_start": 45.8,
            "count": 2
           },
           {
            "bin_end": 53.4,
            "bin_start": 49.599999999999994,
            "count": 0
           },
           {
            "bin_end": 57.199999999999996,
            "bin_start": 53.4,
            "count": 0
           },
           {
            "bin_end": 61,
            "bin_start": 57.199999999999996,
            "count": 1
           }
          ],
          "max": "61",
          "min": "23",
          "nan_count": 0,
          "unique_count": 4
         }
        },
        {
         "dtype": "object",
         "name": "Sex",
         "stats": {
          "categories": [
           {
            "count": 3,
            "name": "F"
           },
           {
            "count": 2,
            "name": "M"
           }
          ],
          "nan_count": 0,
          "unique_count": 2
         }
        },
        {
         "dtype": "object",
         "name": "BP",
         "stats": {
          "categories": [
           {
            "count": 3,
            "name": "LOW"
           },
           {
            "count": 1,
            "name": "HIGH"
           },
           {
            "count": 1,
            "name": "NORMAL"
           }
          ],
          "nan_count": 0,
          "unique_count": 3
         }
        },
        {
         "dtype": "object",
         "name": "Cholesterol",
         "stats": {
          "categories": [
           {
            "count": 5,
            "name": "HIGH"
           }
          ],
          "nan_count": 0,
          "unique_count": 1
         }
        },
        {
         "dtype": "float64",
         "name": "Na_to_K",
         "stats": {
          "histogram": [
           {
            "bin_end": 9.553700000000001,
            "bin_start": 7.798,
            "count": 1
           },
           {
            "bin_end": 11.3094,
            "bin_start": 9.553700000000001,
            "count": 1
           },
           {
            "bin_end": 13.065100000000001,
            "bin_start": 11.3094,
            "count": 0
           },
           {
            "bin_end": 14.820800000000002,
            "bin_start": 13.065100000000001,
            "count": 1
           },
           {
            "bin_end": 16.576500000000003,
            "bin_start": 14.820800000000002,
            "count": 0
           },
           {
            "bin_end": 18.3322,
            "bin_start": 16.576500000000003,
            "count": 1
           },
           {
            "bin_end": 20.0879,
            "bin_start": 18.3322,
            "count": 0
           },
           {
            "bin_end": 21.843600000000002,
            "bin_start": 20.0879,
            "count": 0
           },
           {
            "bin_end": 23.599300000000003,
            "bin_start": 21.843600000000002,
            "count": 0
           },
           {
            "bin_end": 25.355,
            "bin_start": 23.599300000000003,
            "count": 1
           }
          ],
          "max": "25.355",
          "min": "7.798",
          "nan_count": 0,
          "unique_count": 5
         }
        },
        {
         "dtype": "object",
         "name": "Drug",
         "stats": {
          "categories": [
           {
            "count": 2,
            "name": "drugY"
           },
           {
            "count": 2,
            "name": "drugC"
           },
           {
            "count": 1,
            "name": "drugX"
           }
          ],
          "nan_count": 0,
          "unique_count": 3
         }
        },
        {
         "dtype": "int64",
         "name": "_deepnote_index_column"
        }
       ],
       "row_count": 5,
       "rows": [
        {
         "Age": "23",
         "BP": "HIGH",
         "Cholesterol": "HIGH",
         "Drug": "drugY",
         "Na_to_K": "25.355",
         "Sex": "F",
         "_deepnote_index_column": "0"
        },
        {
         "Age": "47",
         "BP": "LOW",
         "Cholesterol": "HIGH",
         "Drug": "drugC",
         "Na_to_K": "13.093",
         "Sex": "M",
         "_deepnote_index_column": "1"
        },
        {
         "Age": "47",
         "BP": "LOW",
         "Cholesterol": "HIGH",
         "Drug": "drugC",
         "Na_to_K": "10.114",
         "Sex": "M",
         "_deepnote_index_column": "2"
        },
        {
         "Age": "28",
         "BP": "NORMAL",
         "Cholesterol": "HIGH",
         "Drug": "drugX",
         "Na_to_K": "7.798",
         "Sex": "F",
         "_deepnote_index_column": "3"
        },
        {
         "Age": "61",
         "BP": "LOW",
         "Cholesterol": "HIGH",
         "Drug": "drugY",
         "Na_to_K": "18.043",
         "Sex": "F",
         "_deepnote_index_column": "4"
        }
       ]
      },
      "text/html": [
       "<div>\n",
       "<style scoped>\n",
       "    .dataframe tbody tr th:only-of-type {\n",
       "        vertical-align: middle;\n",
       "    }\n",
       "\n",
       "    .dataframe tbody tr th {\n",
       "        vertical-align: top;\n",
       "    }\n",
       "\n",
       "    .dataframe thead th {\n",
       "        text-align: right;\n",
       "    }\n",
       "</style>\n",
       "<table border=\"1\" class=\"dataframe\">\n",
       "  <thead>\n",
       "    <tr style=\"text-align: right;\">\n",
       "      <th></th>\n",
       "      <th>Age</th>\n",
       "      <th>Sex</th>\n",
       "      <th>BP</th>\n",
       "      <th>Cholesterol</th>\n",
       "      <th>Na_to_K</th>\n",
       "      <th>Drug</th>\n",
       "    </tr>\n",
       "  </thead>\n",
       "  <tbody>\n",
       "    <tr>\n",
       "      <th>0</th>\n",
       "      <td>23</td>\n",
       "      <td>F</td>\n",
       "      <td>HIGH</td>\n",
       "      <td>HIGH</td>\n",
       "      <td>25.355</td>\n",
       "      <td>drugY</td>\n",
       "    </tr>\n",
       "    <tr>\n",
       "      <th>1</th>\n",
       "      <td>47</td>\n",
       "      <td>M</td>\n",
       "      <td>LOW</td>\n",
       "      <td>HIGH</td>\n",
       "      <td>13.093</td>\n",
       "      <td>drugC</td>\n",
       "    </tr>\n",
       "    <tr>\n",
       "      <th>2</th>\n",
       "      <td>47</td>\n",
       "      <td>M</td>\n",
       "      <td>LOW</td>\n",
       "      <td>HIGH</td>\n",
       "      <td>10.114</td>\n",
       "      <td>drugC</td>\n",
       "    </tr>\n",
       "    <tr>\n",
       "      <th>3</th>\n",
       "      <td>28</td>\n",
       "      <td>F</td>\n",
       "      <td>NORMAL</td>\n",
       "      <td>HIGH</td>\n",
       "      <td>7.798</td>\n",
       "      <td>drugX</td>\n",
       "    </tr>\n",
       "    <tr>\n",
       "      <th>4</th>\n",
       "      <td>61</td>\n",
       "      <td>F</td>\n",
       "      <td>LOW</td>\n",
       "      <td>HIGH</td>\n",
       "      <td>18.043</td>\n",
       "      <td>drugY</td>\n",
       "    </tr>\n",
       "  </tbody>\n",
       "</table>\n",
       "</div>"
      ],
      "text/plain": [
       "   Age Sex      BP Cholesterol  Na_to_K   Drug\n",
       "0   23   F    HIGH        HIGH   25.355  drugY\n",
       "1   47   M     LOW        HIGH   13.093  drugC\n",
       "2   47   M     LOW        HIGH   10.114  drugC\n",
       "3   28   F  NORMAL        HIGH    7.798  drugX\n",
       "4   61   F     LOW        HIGH   18.043  drugY"
      ]
     },
     "execution_count": 7,
     "metadata": {},
     "output_type": "execute_result"
    }
   ],
   "source": [
    "import pandas as pd\n",
    "import numpy as np\n",
    "drugset = pd.read_csv(\"https://raw.githubusercontent.com/mhemmg/datasets/master/drugset/drug200.csv\", delimiter=\",\")\n",
    "drugset.head(5)"
   ]
  },
  {
   "cell_type": "markdown",
   "id": "c8e8ab06",
   "metadata": {
    "cell_id": "00051-99ab3ed0-b546-400a-a600-a66b567b4c54",
    "deepnote_cell_height": 200.03334045410156,
    "deepnote_cell_type": "markdown"
   },
   "source": [
    "* Age: NUMBER \n",
    "* Sex: M or F \n",
    "* Blood pressure: HIGH or NORMAL or LOW  \n",
    "* Level of cholesterol: NORMAL or HIGH\n",
    "* Ratio of concentration of sodium to potassium in the blood. \n",
    "* Drug: prescription drug to which the patient responded:  drugA, drugB, drugC, drugX, drugY. "
   ]
  },
  {
   "cell_type": "code",
   "execution_count": null,
   "id": "9cf1fb77",
   "metadata": {
    "cell_id": "e8f23ab7291d40ada79bcb6dd4c82511",
    "deepnote_cell_height": 112.35000610351562,
    "deepnote_cell_type": "code",
    "deepnote_output_heights": [
     20
    ],
    "deepnote_to_be_reexecuted": false,
    "execution_millis": 7273550,
    "execution_start": 1666213493733,
    "source_hash": "c6e819c5",
    "tags": []
   },
   "outputs": [
    {
     "data": {
      "text/plain": [
       "array(['drugY', 'drugC', 'drugX', 'drugA', 'drugB'], dtype=object)"
      ]
     },
     "execution_count": 8,
     "metadata": {},
     "output_type": "execute_result"
    }
   ],
   "source": [
    "drugset['Drug'].unique()"
   ]
  },
  {
   "cell_type": "code",
   "execution_count": null,
   "id": "d725ea8a",
   "metadata": {
    "cell_id": "00055-fbfa1630-d840-4239-9f44-8d5ef51d5179",
    "deepnote_cell_height": 76.23333740234375,
    "deepnote_cell_type": "code",
    "deepnote_to_be_reexecuted": false,
    "execution_millis": 7273378,
    "execution_start": 1666213493777,
    "source_hash": "b4dafe79"
   },
   "outputs": [],
   "source": [
    "X = drugset[['Age', 'Sex', 'BP', 'Cholesterol', 'Na_to_K']].to_numpy()"
   ]
  },
  {
   "cell_type": "code",
   "execution_count": null,
   "id": "ea51c69e",
   "metadata": {
    "cell_id": "00056-fe39084b-1379-4213-84da-439360365622",
    "deepnote_cell_height": 76.23333740234375,
    "deepnote_cell_type": "code",
    "deepnote_to_be_reexecuted": false,
    "execution_millis": 1,
    "execution_start": 1666213493778,
    "source_hash": "74f74535"
   },
   "outputs": [],
   "source": [
    "y = drugset[['Drug']].to_numpy()"
   ]
  },
  {
   "cell_type": "code",
   "execution_count": null,
   "id": "ad3b4fad",
   "metadata": {
    "cell_id": "00057-41c8fe78-9364-4d22-a1da-c8941c145d58",
    "deepnote_cell_height": 76.23333740234375,
    "deepnote_cell_type": "code",
    "deepnote_to_be_reexecuted": false,
    "execution_millis": 1,
    "execution_start": 1666213493832,
    "source_hash": "14b4816d"
   },
   "outputs": [],
   "source": [
    "#X[:,1]=np.where(X[:,1]=='F',0,1)"
   ]
  },
  {
   "cell_type": "markdown",
   "id": "7cb1dd59",
   "metadata": {
    "cell_id": "a47c12b1658e45fbac4d5900bc389aca",
    "deepnote_cell_height": 52.633331298828125,
    "deepnote_cell_type": "markdown",
    "tags": []
   },
   "source": [
    "El aprendizaje automático funciona mejor con números; por lo tanto, convertiremos los valores categóricos en valores numéricos."
   ]
  },
  {
   "cell_type": "code",
   "execution_count": null,
   "id": "ef26e057",
   "metadata": {
    "cell_id": "00058-aeec3d67-c018-4c02-9404-749af23440b8",
    "deepnote_cell_height": 328.23333740234375,
    "deepnote_cell_type": "code",
    "deepnote_to_be_reexecuted": false,
    "execution_millis": 1018,
    "execution_start": 1666213493882,
    "source_hash": "ba61910a"
   },
   "outputs": [],
   "source": [
    "from sklearn import preprocessing\n",
    "le_sex = preprocessing.LabelEncoder()\n",
    "le_sex.fit(['F','M'])\n",
    "X[:,1] = le_sex.transform(X[:,1]) \n",
    "\n",
    "\n",
    "le_BP = preprocessing.LabelEncoder()\n",
    "le_BP.fit([ 'LOW', 'NORMAL', 'HIGH'])\n",
    "X[:,2] = le_BP.transform(X[:,2])\n",
    "\n",
    "\n",
    "le_Chol = preprocessing.LabelEncoder()\n",
    "le_Chol.fit([ 'NORMAL', 'HIGH'])\n",
    "X[:,3] = le_Chol.transform(X[:,3]) \n"
   ]
  },
  {
   "cell_type": "code",
   "execution_count": null,
   "id": "f8484865",
   "metadata": {
    "cell_id": "00059-05004d5f-88af-41b8-9d25-bb19f1e9c3e5",
    "deepnote_cell_height": 189.35000610351562,
    "deepnote_cell_type": "code",
    "deepnote_output_heights": [
     97
    ],
    "deepnote_to_be_reexecuted": false,
    "execution_millis": 316,
    "execution_start": 1666213494906,
    "source_hash": "ca29f7b4"
   },
   "outputs": [
    {
     "data": {
      "text/plain": [
       "array([[23, 0, 0, 0, 25.355],\n",
       "       [47, 1, 1, 0, 13.093],\n",
       "       [47, 1, 1, 0, 10.114],\n",
       "       [28, 0, 2, 0, 7.798],\n",
       "       [61, 0, 1, 0, 18.043]], dtype=object)"
      ]
     },
     "execution_count": 13,
     "metadata": {},
     "output_type": "execute_result"
    }
   ],
   "source": [
    "X[0:5]"
   ]
  },
  {
   "cell_type": "code",
   "execution_count": null,
   "id": "f2bb859b",
   "metadata": {
    "cell_id": "00060-48c57a7e-df8a-4c56-905d-5473c3ffb2c2",
    "deepnote_cell_height": 189.35000610351562,
    "deepnote_cell_type": "code",
    "deepnote_output_heights": [
     97
    ],
    "deepnote_to_be_reexecuted": false,
    "execution_millis": 262,
    "execution_start": 1666213494963,
    "source_hash": "bcfc6b76"
   },
   "outputs": [
    {
     "data": {
      "text/plain": [
       "array([['drugY'],\n",
       "       ['drugC'],\n",
       "       ['drugC'],\n",
       "       ['drugX'],\n",
       "       ['drugY']], dtype=object)"
      ]
     },
     "execution_count": 14,
     "metadata": {},
     "output_type": "execute_result"
    }
   ],
   "source": [
    "y[0:5]"
   ]
  },
  {
   "cell_type": "markdown",
   "id": "2daa1930",
   "metadata": {
    "cell_id": "0ad3b389b3e943bd855c7e9ca07de393",
    "deepnote_cell_height": 52.633331298828125,
    "deepnote_cell_type": "markdown",
    "tags": []
   },
   "source": [
    "Se dividen los datos en train y test:"
   ]
  },
  {
   "cell_type": "code",
   "execution_count": null,
   "id": "da4747ce",
   "metadata": {
    "cell_id": "00061-ad64aab7-1c80-4bb3-9c9d-84f880eda0f4",
    "deepnote_cell_height": 76.23333740234375,
    "deepnote_cell_type": "code",
    "deepnote_to_be_reexecuted": false,
    "execution_millis": 79,
    "execution_start": 1666213494964,
    "source_hash": "746a4dbc"
   },
   "outputs": [],
   "source": [
    "from sklearn.model_selection import train_test_split"
   ]
  },
  {
   "cell_type": "code",
   "execution_count": null,
   "id": "78c23f63",
   "metadata": {
    "cell_id": "00062-4718bbf8-5cfb-4e63-8b81-675298b4c290",
    "deepnote_cell_height": 76.23333740234375,
    "deepnote_cell_type": "code",
    "deepnote_to_be_reexecuted": false,
    "execution_millis": 2,
    "execution_start": 1666213495054,
    "source_hash": "25733f77"
   },
   "outputs": [],
   "source": [
    "X_train, X_test, y_train, y_test = train_test_split(X, y, test_size=0.3, random_state=3)"
   ]
  },
  {
   "cell_type": "markdown",
   "id": "0dcd1cb5",
   "metadata": {
    "cell_id": "8a278a7f0e064119a1ad7a39fc837499",
    "deepnote_cell_height": 75.03334045410156,
    "deepnote_cell_type": "markdown",
    "tags": []
   },
   "source": [
    "Se carga el clasificador del árbol de decisiones:\n",
    "(https://scikit-learn.org/stable/modules/generated/sklearn.tree.DecisionTreeClassifier.html)"
   ]
  },
  {
   "cell_type": "code",
   "execution_count": null,
   "id": "e607463c",
   "metadata": {
    "cell_id": "00063-74ac2336-84be-44b9-9ede-cec225a1ff01",
    "deepnote_cell_height": 76.23333740234375,
    "deepnote_cell_type": "code",
    "deepnote_to_be_reexecuted": false,
    "execution_millis": 523,
    "execution_start": 1666213495059,
    "source_hash": "1f640c24"
   },
   "outputs": [],
   "source": [
    "from sklearn.tree import DecisionTreeClassifier"
   ]
  },
  {
   "cell_type": "code",
   "execution_count": null,
   "id": "ae3ec389",
   "metadata": {
    "cell_id": "00064-aab29144-1731-436f-a9da-c4048d3507f9",
    "deepnote_cell_height": 130.23333740234375,
    "deepnote_cell_type": "code",
    "deepnote_to_be_reexecuted": false,
    "execution_millis": 1,
    "execution_start": 1666213495582,
    "source_hash": "23a4e468"
   },
   "outputs": [],
   "source": [
    "drugTree = DecisionTreeClassifier(criterion=\"entropy\", max_depth = 4)\n",
    "# criterion: función para medir la calidad de una división (entropy)\n",
    "# max_depth: la profundidad máxima del árbol (igual o menes de número de características)\n"
   ]
  },
  {
   "cell_type": "markdown",
   "id": "f54f518f",
   "metadata": {
    "cell_id": "4f8891c102e04ad0bc901079119cc863",
    "deepnote_cell_height": 52.633331298828125,
    "deepnote_cell_type": "markdown",
    "tags": []
   },
   "source": [
    "Se entrena el modelo:"
   ]
  },
  {
   "cell_type": "code",
   "execution_count": null,
   "id": "eb320a7f",
   "metadata": {
    "cell_id": "00065-5c5dbafe-5b5f-4b7b-8b7a-2918f335f939",
    "deepnote_cell_height": 112.35000610351562,
    "deepnote_cell_type": "code",
    "deepnote_output_heights": [
     20
    ],
    "deepnote_to_be_reexecuted": false,
    "execution_millis": 23,
    "execution_start": 1666213495583,
    "source_hash": "e7bcf842"
   },
   "outputs": [
    {
     "data": {
      "text/plain": [
       "DecisionTreeClassifier(criterion='entropy', max_depth=4)"
      ]
     },
     "execution_count": 19,
     "metadata": {},
     "output_type": "execute_result"
    }
   ],
   "source": [
    "drugTree.fit(X_train,y_train)"
   ]
  },
  {
   "cell_type": "markdown",
   "id": "b31ff6b4",
   "metadata": {
    "cell_id": "ad6e184d30744b99a7fafe11c5a47d43",
    "deepnote_cell_height": 52.633331298828125,
    "deepnote_cell_type": "markdown",
    "tags": []
   },
   "source": [
    "Se predicen los resultados utilizando datos de prueba invisibles:"
   ]
  },
  {
   "cell_type": "code",
   "execution_count": null,
   "id": "1fc68fb9",
   "metadata": {
    "cell_id": "00066-73d9dcdd-b64a-4018-b40f-572d3e7d158f",
    "deepnote_cell_height": 76.23333740234375,
    "deepnote_cell_type": "code",
    "deepnote_to_be_reexecuted": false,
    "execution_millis": 1,
    "execution_start": 1666213495584,
    "source_hash": "6b57f6bb"
   },
   "outputs": [],
   "source": [
    "predTree = drugTree.predict(X_test)"
   ]
  },
  {
   "cell_type": "code",
   "execution_count": null,
   "id": "ed898d8e",
   "metadata": {
    "cell_id": "00067-b9c164a9-2670-4363-9195-1059709ba07e",
    "deepnote_cell_height": 145.98333740234375,
    "deepnote_cell_type": "code",
    "deepnote_to_be_reexecuted": false,
    "execution_millis": 21,
    "execution_start": 1666213495585,
    "source_hash": "2871c3d3"
   },
   "outputs": [
    {
     "name": "stdout",
     "output_type": "stream",
     "text": [
      "['drugY' 'drugX' 'drugX' 'drugX' 'drugX']\n",
      "['drugY' 'drugX' 'drugX' 'drugX' 'drugX']\n"
     ]
    }
   ],
   "source": [
    "print (predTree [0:5])\n",
    "print (y_test [0:5].T[0])"
   ]
  },
  {
   "cell_type": "code",
   "execution_count": null,
   "id": "cd4b89ac",
   "metadata": {
    "cell_id": "00068-edec6784-d467-494a-88fa-bba4bd809d14",
    "deepnote_cell_height": 143.6666717529297,
    "deepnote_cell_type": "code",
    "deepnote_to_be_reexecuted": false,
    "execution_millis": 2935,
    "execution_start": 1666213495586,
    "source_hash": "fa7bbea3"
   },
   "outputs": [
    {
     "name": "stdout",
     "output_type": "stream",
     "text": [
      "DecisionTrees's Accuracy:  0.9833333333333333\n"
     ]
    }
   ],
   "source": [
    "from sklearn import metrics\n",
    "import matplotlib.pyplot as plt\n",
    "print(\"DecisionTrees's Accuracy: \", metrics.accuracy_score(y_test, predTree))"
   ]
  },
  {
   "cell_type": "markdown",
   "id": "e579d44e",
   "metadata": {
    "cell_id": "00069-d0a87cda-c61c-46d4-89d3-ccf10b0036b7",
    "deepnote_cell_height": 52.633331298828125,
    "deepnote_cell_type": "markdown"
   },
   "source": [
    "Se traza el árbol de decisiones que construyó el módulo:"
   ]
  },
  {
   "cell_type": "code",
   "execution_count": null,
   "id": "1db84f91",
   "metadata": {
    "cell_id": "cbe01a76ca7f4bb899b13ff69bf922c1",
    "deepnote_cell_height": 112.35000610351562,
    "deepnote_cell_type": "code",
    "deepnote_output_heights": [
     20
    ],
    "deepnote_to_be_reexecuted": false,
    "execution_millis": 1136,
    "execution_start": 1666213497399,
    "source_hash": "ca8ecd93",
    "tags": []
   },
   "outputs": [
    {
     "data": {
      "text/plain": [
       "array(['drugA', 'drugB', 'drugC', 'drugX', 'drugY'], dtype=object)"
      ]
     },
     "execution_count": 23,
     "metadata": {},
     "output_type": "execute_result"
    }
   ],
   "source": [
    "np.unique(y_train)"
   ]
  },
  {
   "cell_type": "code",
   "execution_count": null,
   "id": "e426cc7f",
   "metadata": {
    "cell_id": "00070-fbd72afc-3562-4919-8e30-6d28a7373575",
    "deepnote_cell_height": 1035.4666748046875,
    "deepnote_cell_type": "code",
    "deepnote_output_heights": [
     212,
     610
    ],
    "deepnote_to_be_reexecuted": false,
    "execution_millis": 4017,
    "execution_start": 1666213497423,
    "source_hash": "ff3902e5"
   },
   "outputs": [
    {
     "data": {
      "text/plain": [
       "[Text(0.625, 0.9, 'Na_to_K <= 14.615\\nentropy = 1.929\\nsamples = 140\\nvalue = [16, 11, 11, 33, 69]\\nclass = drugY'),\n",
       " Text(0.5, 0.7, 'BP <= 0.5\\nentropy = 1.832\\nsamples = 71\\nvalue = [16, 11, 11, 33, 0]\\nclass = drugX'),\n",
       " Text(0.25, 0.5, 'Age <= 50.5\\nentropy = 0.975\\nsamples = 27\\nvalue = [16, 11, 0, 0, 0]\\nclass = drugA'),\n",
       " Text(0.125, 0.3, 'entropy = 0.0\\nsamples = 16\\nvalue = [16, 0, 0, 0, 0]\\nclass = drugA'),\n",
       " Text(0.375, 0.3, 'entropy = 0.0\\nsamples = 11\\nvalue = [0, 11, 0, 0, 0]\\nclass = drugB'),\n",
       " Text(0.75, 0.5, 'Cholesterol <= 0.5\\nentropy = 0.811\\nsamples = 44\\nvalue = [0, 0, 11, 33, 0]\\nclass = drugX'),\n",
       " Text(0.625, 0.3, 'BP <= 1.5\\nentropy = 0.998\\nsamples = 21\\nvalue = [0, 0, 11, 10, 0]\\nclass = drugC'),\n",
       " Text(0.5, 0.1, 'entropy = 0.0\\nsamples = 11\\nvalue = [0, 0, 11, 0, 0]\\nclass = drugC'),\n",
       " Text(0.75, 0.1, 'entropy = 0.0\\nsamples = 10\\nvalue = [0, 0, 0, 10, 0]\\nclass = drugX'),\n",
       " Text(0.875, 0.3, 'entropy = 0.0\\nsamples = 23\\nvalue = [0, 0, 0, 23, 0]\\nclass = drugX'),\n",
       " Text(0.75, 0.7, 'entropy = 0.0\\nsamples = 69\\nvalue = [0, 0, 0, 0, 69]\\nclass = drugY')]"
      ]
     },
     "execution_count": 24,
     "metadata": {},
     "output_type": "execute_result"
    },
    {
     "data": {
      "image/png": "[encoded data removed]",
      "text/plain": [
       "<Figure size 1200x1200 with 1 Axes>"
      ]
     },
     "metadata": {
      "image/png": {
       "height": 944,
       "width": 950
      }
     },
     "output_type": "display_data"
    }
   ],
   "source": [
    "from sklearn import tree\n",
    "import matplotlib.pyplot as plt\n",
    "featureNames = drugset.columns[0:5]\n",
    "fig, ax = plt.subplots(figsize=(12,12))\n",
    "tree.plot_tree(drugTree, feature_names=featureNames, class_names= np.unique(y_train), filled=True)\n"
   ]
  },
  {
   "cell_type": "markdown",
   "id": "4741bf5d",
   "metadata": {
    "cell_id": "761a4b0c9deb45dda915e9c17567c041",
    "deepnote_cell_height": 627.5999755859375,
    "deepnote_cell_type": "markdown",
    "tags": []
   },
   "source": [
    "Finalmente, scikit-learn ha generado todo el árbol. \n",
    "\n",
    "Ahora, si queremos clasificar a un nuevo paciente, necesitamos leer el árbol comenzando en el nodo raíz (profundidad 0).\n",
    "\n",
    "* Root node (profundidad 0):\n",
    "\n",
    "  * `Na_to_K <= 14.615` - Condición de división (observe que el algoritmo varió los valores numéricos).\n",
    "  * `entropy 1.929` - Entropía del conjunto de datos antes de dividir.\n",
    "  * `muestras = 140` - Número total de muestras.\n",
    "  * `valor = [16, 11, 11, 33, 69]` - Distribución de las drogas: `'16: drogaA', '11: drogaB', '11: drogaC', '33: drogaX', '69: drogaY'`.\n",
    "  * `clase = drogaY` - Clase de droga más común del conjunto de datos antes de dividir.\n",
    "  * Este root node preguntará si el paciente Na_to_K es menor o igual 14.615; si es TRUE, la nueva rama apunta a la izquierda y si es FALSE, la nueva rama apunta a la derecha.\n",
    "\n",
    "* Nodo hoja derecha (profundidad 1), si Na_to_K > 14.615 (si la condición del nodo raíz es FALSE)\n",
    "  * `entropía = 0` - Valor de la entropía para esta categoría de pacientes.\n",
    "  * `samples = 69` - Número total de muestras que caen en esta categoría.\n",
    "  * `valor = [16, 11, 11, 33, 0]` - Distribución de las drogas.\n",
    "  * *Basándonos en el valor de la entropía podemos decir, sin duda, que el paciente cuya ración de sodio a potasio en sangre es de $\\gt$ 14.615 puede recibir el fármaco X.\n",
    "\n",
    "* Nodo hoja izquierda (profundidad 1), si Na_to_K $\\leq$ 14.615 (si la condición del nodo raíz es TRUE)\n",
    "  * `entropía = 1.832` - La entropía ha disminuido.\n",
    "  * *Pero los pacientes cuya proporción de sodio a potasio en la sangre es Na_to_K $\\leq$ 14.615 deben ser analizados más a fondo.\n",
    "  * ..."
   ]
  },
  {
   "cell_type": "markdown",
   "id": "afdd6859",
   "metadata": {
    "cell_id": "db15b424c38945fabb579f819e9529f8",
    "deepnote_cell_height": 97.43333435058594,
    "deepnote_cell_type": "markdown",
    "tags": []
   },
   "source": [
    "El algoritmo Scikit-Learn ha construido un árbol de decisión fácil de leer, que permitirá una clasificación de los pacientes en función de sus características. Tenga en cuenta que todos los leaf nodes tienen cero entropía, lo que significa que podemos estar seguros del medicamento que se le debe recetar al paciente."
   ]
  },
  {
   "cell_type": "markdown",
   "id": "838c4432",
   "metadata": {
    "cell_id": "86416f6017fe441d9e1e33637916d398",
    "deepnote_cell_height": 75.03334045410156,
    "deepnote_cell_type": "markdown",
    "tags": []
   },
   "source": [
    "A veces, solo observar accuracy de las predicciones puede no ser suficiente para comprender los resultados. Por esa razón, hay dos herramientas adicionales en la colección scikit-learn: `confusion_matrix` y `classification_report`"
   ]
  },
  {
   "cell_type": "code",
   "execution_count": null,
   "id": "1433b961",
   "metadata": {
    "cell_id": "6225a6c4970f4ba79cecc52dd872c2a1",
    "deepnote_cell_height": 76.23333740234375,
    "deepnote_cell_type": "code",
    "deepnote_to_be_reexecuted": false,
    "execution_millis": 0,
    "execution_start": 1666213501037,
    "source_hash": "ca64a164",
    "tags": []
   },
   "outputs": [],
   "source": [
    "from sklearn.metrics import classification_report, confusion_matrix"
   ]
  },
  {
   "cell_type": "markdown",
   "id": "be727f44",
   "metadata": {
    "cell_id": "9205c2f372f74befb12dc964a849a5a7",
    "deepnote_cell_height": 52.633331298828125,
    "deepnote_cell_type": "markdown",
    "tags": []
   },
   "source": [
    "La \"matriz de confusión\" (\"confusion matrix\") muestra con más detalles qué medicamentos se clasificaron erróneamente:"
   ]
  },
  {
   "cell_type": "code",
   "execution_count": null,
   "id": "5f1e1993",
   "metadata": {
    "cell_id": "2624ffdda2654b698634e0ecfc5674cf",
    "deepnote_cell_height": 661.2166748046875,
    "deepnote_cell_type": "code",
    "deepnote_output_heights": [
     null,
     20,
     433
    ],
    "deepnote_to_be_reexecuted": false,
    "execution_millis": 786,
    "execution_start": 1666213501040,
    "source_hash": "584d86d0",
    "tags": []
   },
   "outputs": [
    {
     "name": "stderr",
     "output_type": "stream",
     "text": [
      "/shared-libs/python3.7/py/lib/python3.7/site-packages/sklearn/utils/deprecation.py:87: FutureWarning: Function plot_confusion_matrix is deprecated; Function `plot_confusion_matrix` is deprecated in 1.0 and will be removed in 1.2. Use one of the class methods: ConfusionMatrixDisplay.from_predictions or ConfusionMatrixDisplay.from_estimator.\n",
      "  warnings.warn(msg, category=FutureWarning)\n"
     ]
    },
    {
     "data": {
      "text/plain": [
       "<sklearn.metrics._plot.confusion_matrix.ConfusionMatrixDisplay at 0x7fa200e39910>"
      ]
     },
     "execution_count": 26,
     "metadata": {},
     "output_type": "execute_result"
    },
    {
     "data": {
      "image/png": "[encoded data removed]",
      "text/plain": [
       "<Figure size 640x480 with 2 Axes>"
      ]
     },
     "metadata": {
      "image/png": {
       "height": 432,
       "width": 544
      }
     },
     "output_type": "display_data"
    }
   ],
   "source": [
    "from sklearn.metrics import plot_confusion_matrix\n",
    "plot_confusion_matrix(drugTree, X_test, y_test)"
   ]
  },
  {
   "cell_type": "markdown",
   "id": "6022b3a0",
   "metadata": {
    "cell_id": "b383b0841e5e4795a3ceaa45b0da6dc0",
    "deepnote_cell_height": 52.633331298828125,
    "deepnote_cell_type": "markdown",
    "tags": []
   },
   "source": [
    "Por ejemplo, segun de la etiqueta verdadera (True Label), se suponía que un paciente tiene que recibir drugX, pero el modelo predijo el drugY."
   ]
  },
  {
   "cell_type": "markdown",
   "id": "4ad56cdc",
   "metadata": {
    "cell_id": "a91c2ca6bacc403f8685627d247767a4",
    "deepnote_cell_height": 707.683349609375,
    "deepnote_cell_type": "markdown",
    "tags": []
   },
   "source": [
    "Aún más importante es `classification_report`. `Classification_report` basea en cuatro medidas:\n",
    "\n",
    "* TP (True Positive), Verdaderos positivos: un resultado en el que el modelo predice correctamente la clase positiva\n",
    "* TN (True Negative), Verdaderos negativos: un resultado en el que el modelo predice correctamente la clase negativa\n",
    "* FP (False Positive), Falsos positivos: un resultado en el que el modelo predice incorrectamente la clase positiva\n",
    "* FN (False Negative), Falsos negativos: un resultado en el que el modelo predice incorrectamente la clase negativa\n",
    "\n",
    "De esas medidas se puede derivar siguientes metricas: \n",
    "\n",
    "* Accuracy = $\\frac{\\textrm{TN}+\\textrm{TP}}{\\textrm{TN}+\\textrm{TP}+\\textrm{FN}+\\textrm{FP}}$ - relación entre las predicciones correctas (TN, TP) y todas las predicciones (TN, FP, FN, TP) \n",
    "* Precision = $\\frac{\\textrm{TP}}{\\textrm{TP}+\\textrm{FP}}$ - relación entre las predicciones positivas correctas (TP) y todas las predicciones positivas (TP, FP)\n",
    "* Recall = $\\frac{\\textrm{TP}}{\\textrm{TP}+\\textrm{FN}}$ - relación entre las predicciones positivas correctas (TP) y todas las etiquetas positivas reales (TP, FN)\n",
    "* f1-score = $2*\\frac{\\textrm{recall}*\\textrm{precision}}{\\textrm{recall}+\\textrm{precision}}$ - Media ponderada de precisión y recall\n",
    "\n"
   ]
  },
  {
   "cell_type": "code",
   "execution_count": null,
   "id": "f1d39d98",
   "metadata": {
    "cell_id": "84425d20bc5c47fbb874ed9d2150ccdd",
    "deepnote_cell_height": 331.1499938964844,
    "deepnote_cell_type": "code",
    "deepnote_to_be_reexecuted": false,
    "execution_millis": 212,
    "execution_start": 1666213501616,
    "source_hash": "217038f3",
    "tags": []
   },
   "outputs": [
    {
     "name": "stdout",
     "output_type": "stream",
     "text": [
      "              precision    recall  f1-score   support\n",
      "\n",
      "       drugA       1.00      1.00      1.00         7\n",
      "       drugB       1.00      1.00      1.00         5\n",
      "       drugC       1.00      1.00      1.00         5\n",
      "       drugX       1.00      0.95      0.98        21\n",
      "       drugY       0.96      1.00      0.98        22\n",
      "\n",
      "    accuracy                           0.98        60\n",
      "   macro avg       0.99      0.99      0.99        60\n",
      "weighted avg       0.98      0.98      0.98        60\n",
      "\n"
     ]
    }
   ],
   "source": [
    "print(classification_report(y_test,predTree))"
   ]
  },
  {
   "cell_type": "markdown",
   "id": "980945de",
   "metadata": {
    "cell_id": "dd566e85c5f34e1485d136e82b4ef117",
    "deepnote_cell_height": 142.23333740234375,
    "deepnote_cell_type": "markdown",
    "tags": []
   },
   "source": [
    "Trabajar con estas métricas puede ser un poco complicado, pero es importante a tener en cuenta para asegurarse de no malinterpretar los resultados y sacar las conclusiones correctas. ¿Por qué es esto importante? Imagine la situación de que de todos esos medicamentos todos son relativamente seguros para todos los pacientes, excepto el medicamento drugX. Si se prescribe el medicamento drugX a un paciente que no debe recibirlo, entonces el paciente podría morir. Por lo tanto, tenemos que mirar la Precision (precisión) para ver cuál es la puntuación de esta metrica."
   ]
  },
  {
   "cell_type": "markdown",
   "id": "61a2ed98",
   "metadata": {
    "cell_id": "00071-b7effafe-1251-4b73-abee-580bbf763597",
    "deepnote_cell_height": 52.633331298828125,
    "deepnote_cell_type": "markdown"
   },
   "source": [
    "Finalmente tambien podemos trazar la relevancia de cada caracteristica en el árbol de decisión:"
   ]
  },
  {
   "cell_type": "code",
   "execution_count": null,
   "id": "ff3f5585",
   "metadata": {
    "cell_id": "00072-bd2c24e9-1602-4238-981f-d4a9de1afb24",
    "deepnote_cell_height": 112.35000610351562,
    "deepnote_cell_type": "code",
    "deepnote_output_heights": [
     20
    ],
    "deepnote_to_be_reexecuted": false,
    "execution_millis": 201,
    "execution_start": 1666213501627,
    "source_hash": "9e8a3605"
   },
   "outputs": [
    {
     "data": {
      "text/plain": [
       "array([0.09749785, 0.        , 0.3295848 , 0.05454991, 0.51836744])"
      ]
     },
     "execution_count": 28,
     "metadata": {},
     "output_type": "execute_result"
    }
   ],
   "source": [
    "drugTree.feature_importances_"
   ]
  },
  {
   "cell_type": "code",
   "execution_count": null,
   "id": "c0c6ab6d",
   "metadata": {
    "cell_id": "00073-290fa32a-58a9-472a-a4da-7d62c290f8b7",
    "deepnote_cell_height": 112.35000610351562,
    "deepnote_cell_type": "code",
    "deepnote_output_heights": [
     20
    ],
    "deepnote_to_be_reexecuted": false,
    "execution_millis": 196,
    "execution_start": 1666213501633,
    "source_hash": "3e659e21"
   },
   "outputs": [
    {
     "data": {
      "text/plain": [
       "Index(['Age', 'Sex', 'BP', 'Cholesterol', 'Na_to_K'], dtype='object')"
      ]
     },
     "execution_count": 29,
     "metadata": {},
     "output_type": "execute_result"
    }
   ],
   "source": [
    "featureNames"
   ]
  },
  {
   "cell_type": "code",
   "execution_count": null,
   "id": "a39a2dcd",
   "metadata": {
    "cell_id": "00074-6f55bf41-66bb-45c8-96af-0528b432e557",
    "deepnote_cell_height": 1088.4666748046875,
    "deepnote_cell_type": "code",
    "deepnote_output_heights": [
     193,
     610
    ],
    "deepnote_to_be_reexecuted": false,
    "execution_millis": 383,
    "execution_start": 1666213501653,
    "source_hash": "1fe4e26a"
   },
   "outputs": [
    {
     "data": {
      "text/plain": [
       "([<matplotlib.axis.YTick at 0x7fa1feba3250>,\n",
       "  <matplotlib.axis.YTick at 0x7fa1feff33d0>,\n",
       "  <matplotlib.axis.YTick at 0x7fa1ff02dad0>,\n",
       "  <matplotlib.axis.YTick at 0x7fa1feb5a050>,\n",
       "  <matplotlib.axis.YTick at 0x7fa1feb5a210>],\n",
       " [Text(0, 0, 'Sex'),\n",
       "  Text(0, 1, 'Cholesterol'),\n",
       "  Text(0, 2, 'Age'),\n",
       "  Text(0, 3, 'BP'),\n",
       "  Text(0, 4, 'Na_to_K')])"
      ]
     },
     "execution_count": 30,
     "metadata": {},
     "output_type": "execute_result"
    },
    {
     "data": {
      "image/png": "[encoded data removed]",
      "text/plain": [
       "<Figure size 1000x1000 with 1 Axes>"
      ]
     },
     "metadata": {
      "image/png": {
       "height": 833,
       "width": 902
      }
     },
     "output_type": "display_data"
    }
   ],
   "source": [
    "fig, ax = plt.subplots(figsize=(10,10))\n",
    "\n",
    "importances = drugTree.feature_importances_\n",
    "sorted_indices = np.argsort(importances) # reversing order \n",
    "#sorted_indices = np.argsort(importances)[::-1] # reversing order \n",
    "\n",
    "plt.barh(range(len(featureNames)), importances[sorted_indices])\n",
    "plt.xlabel('feature importance')\n",
    "plt.ylabel('feature name')\n",
    "plt.yticks(range(5), featureNames[sorted_indices])"
   ]
  },
  {
   "cell_type": "markdown",
   "id": "a19d422b",
   "metadata": {
    "cell_id": "00075-d690e9f0-c632-4e51-bb29-5b7e4701cf28",
    "deepnote_cell_height": 178.63333129882812,
    "deepnote_cell_type": "markdown"
   },
   "source": [
    "Esto parece un problema de clasificación típico porque la salida son valores discretos de las drogas A, B, C, X, Y. Sin embargo, los árboles de decisión (DT) son tambien adecuados para problemas de regresión, como predecir el precio (variable continua) de una casa en función de sus características.\n",
    "\n",
    "Los árboles de decisión se pueden utilizar como otra herramienta (recuerda el paquete `eli5`) para una selección de características más importantes. De este ejemplo queda claro que la característica más importante es `Na_to_K` y menos importante es el `Sex`. Entonces, si el investigador necesita recopilar más datos para el análisis, sabe que preguntar a los pacientes sobre el genero ya no es tan importante."
   ]
  },
  {
   "cell_type": "markdown",
   "id": "4a523f35",
   "metadata": {
    "cell_id": "00076-456b413c-e1fa-4f12-8950-9d74c8f7b472",
    "deepnote_cell_height": 82.23333740234375,
    "deepnote_cell_type": "markdown"
   },
   "source": [
    "# 5. Random Forest"
   ]
  },
  {
   "cell_type": "markdown",
   "id": "5b70bb3d",
   "metadata": {
    "cell_id": "00077-d52aa53b-80be-44c9-8017-cb264c4655a9",
    "deepnote_cell_height": 705.1666870117188,
    "deepnote_cell_type": "markdown"
   },
   "source": [
    "Una modificación del algoritmo del árbol de decisión conduce a otro concepto llamado Random Forest. Como su nombre lo indica, es un algoritmo que crea una colección de árboles de decisión aleatorios (como un bosque). La principal distinción es que el Random Forest no se basa en una sola decisión, pero reúne decisiones aleatorias basadas en muchas arboles, y luego crea una decisión final dependiendo de la mayoría.\n",
    "\n",
    "![img](imgs/DT_vs_RT_I.png)\n",
    "\n",
    "El algoritmo Random Forest, aunque es más poderoso que los Decision Trees, carece de la simplicidad de estos, y sus resultados son más difíciles de interpretar."
   ]
  }
 ],
 "metadata": {
  "deepnote": {},
  "deepnote_execution_queue": [],
  "deepnote_notebook_id": "223075cb-7109-4da6-acbf-46944e03b676",
  "kernelspec": {
   "display_name": "Python 3",
   "language": "python",
   "name": "python3"
  },
  "language_info": {
   "codemirror_mode": {
    "name": "ipython",
    "version": 3
   },
   "file_extension": ".py",
   "mimetype": "text/x-python",
   "name": "python",
   "nbconvert_exporter": "python",
   "pygments_lexer": "ipython3",
   "version": "3.7.2"
  }
 },
 "nbformat": 4,
 "nbformat_minor": 5
}
