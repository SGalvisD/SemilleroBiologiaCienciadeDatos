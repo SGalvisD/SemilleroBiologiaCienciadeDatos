{
 "cells": [
  {
   "cell_type": "markdown",
   "metadata": {
    "cell_id": "5f865d24cda54555b418d7cf8ab7091e",
    "deepnote_cell_height": 1125.0333251953125,
    "deepnote_cell_type": "markdown",
    "tags": []
   },
   "source": [
    "# I. Utilizando árboles de decisión construir un modelo que clasificará a nuevos clientes del banco para ser elegible o no para un préstamo.\n",
    "\n",
    "* conjuntos de datos:\n",
    "  * `train.csv` contiene datos de más de 600 clientes y su proceso de elegibilidad de préstamos, incluido el resultado de la solicitud (https://raw.githubusercontent.com/mhemmg/datasets/master/loan/train.csv)\n",
    "  * `test.csv` igual que train.csv pero sin resultado de la aplicación (https://raw.githubusercontent.com/mhemmg/datasets/master/loan/test.csv)\n",
    "\n",
    "* utilice las siguientes columnas (ENG):\n",
    "\n",
    "  * `Loan_ID` - Unique Loan ID\n",
    "  * `Gender` - Male/ Female\n",
    "  * `Married` - Applicant married (Y/N)\n",
    "  * `Dependents` - Number of dependents\n",
    "  * `Education` - Applicant Education (Graduate/ Under Graduate)\n",
    "  * `Self_Employed` - Self employed (Y/N)\n",
    "  * `ApplicantIncome` - Applicant income\n",
    "  * `CoapplicantIncome` - Coapplicant income\n",
    "  * `LoanAmount` - Loan amount\n",
    "  * `Loan_Amount_TermTerm` - loan in months\n",
    "  * `Loan_Status` - loan approved or not (y/n)\n",
    "\n",
    "* utilice las siguientes columnas (ESP):\n",
    "  * `Loan_ID` - ID de préstamo único\n",
    "  * `Género` - Masculino/ Femenino\n",
    "  * `Casado` - Solicitante casado (S/N)\n",
    "  * `Dependientes` - Número de dependientes\n",
    "  * `Educación` - Educación del solicitante (graduado/licenciatura)\n",
    "  * `Self_Employed` - Autónomo (S/N)\n",
    "  * `ApplicantIncome` - Ingresos del solicitante\n",
    "  * `CoapplicantIncome` - Ingresos del cosolicitante\n",
    "  * `LoanAmount` - Monto del préstamo\n",
    "  * `Loan_Amount_TermTerm` en meses\n",
    "  * `Loan_Status` - préstamo aprobado o no (s/n)\n",
    "\n",
    "\n",
    "1) entrenar modelo \n",
    "2) tomar al azar 5 clientes del conjunto de datos test.csv y verificar su elegibilidad para un préstamo. ¿Sería capaz de explicar por qué algunos no eran elegibles para un préstamo?\n",
    "3) cuáles son las 3 características más importantes que determinan la decisión del banco\n",
    "4) compare resultados usando `random forest classifier` - bosques aleatorios, la precisión y la importancia de las características"
   ]
  },
  {
   "cell_type": "markdown",
   "metadata": {
    "cell_id": "1f0725085e3f4438949e7c3fe1caace3",
    "deepnote_cell_height": 75.03334045410156,
    "deepnote_cell_type": "markdown",
    "tags": []
   },
   "source": [
    "# II. En el módulo V escribiste un código para reconocer los dígitos escritos a mano. Agregue a su código matriz de confusión y determine qué dígitos se confunden con mayor frecuencia."
   ]
  },
  {
   "cell_type": "markdown",
   "metadata": {
    "cell_id": "f135f779fe974312b08b3d694810251d",
    "deepnote_cell_height": 487.6000061035156,
    "deepnote_cell_type": "markdown",
    "tags": []
   },
   "source": [
    "# III. Reto\n",
    "\n",
    "Comprueba si sobrevivirías a la catástrofe del Titanic (imagina que puedes retroceder en el tiempo y hacer el viaje con el Titanic) Utilizando el siguiente conjunto de datos y el árbol de decisiones, descubre cuáles fueron las características más importantes de los pasajeros del Titanic que determinaron su supervivencia.\n",
    "* dataset: https://raw.githubusercontent.com/mhemmg/datasets/master/titanic/titanic_train.csv\n",
    "\n",
    "```\n",
    "*    survival: Survival (0 = No; 1 = Yes)\n",
    "*    pclass: Passenger Class (1 = 1st; 2 = 2nd; 3 = 3rd)\n",
    "*    name: Name\n",
    "*    sex: Sex\n",
    "*    age: Age\n",
    "*    sibsp: Number of Siblings/Spouses Aboard\n",
    "*    parch: Number of Parents/Children Aboard\n",
    "*    ticket: Ticket Number\n",
    "*    fare: Passenger Fare ((British Pound)\n",
    "*    cabin: Cabin\n",
    "*    embarked: Port of Embarkation (C = Cherbourg; Q = Queenstown; S = Southampton)\n",
    "```"
   ]
  },
  {
   "cell_type": "code",
   "execution_count": null,
   "metadata": {},
   "outputs": [],
   "source": []
  }
 ],
 "metadata": {
  "deepnote": {},
  "deepnote_execution_queue": [],
  "deepnote_notebook_id": "5190bc7a-e3d3-4da9-b6c8-29d358802576",
  "kernelspec": {
   "display_name": "Python 3",
   "language": "python",
   "name": "python3"
  },
  "language_info": {
   "codemirror_mode": {
    "name": "ipython",
    "version": 3
   },
   "file_extension": ".py",
   "mimetype": "text/x-python",
   "name": "python",
   "nbconvert_exporter": "python",
   "pygments_lexer": "ipython3",
   "version": "3.7.2"
  }
 },
 "nbformat": 4,
 "nbformat_minor": 2
}
