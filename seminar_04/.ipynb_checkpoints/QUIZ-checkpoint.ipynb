{
 "cells": [
  {
   "cell_type": "markdown",
   "metadata": {
    "cell_id": "592c7addbe2b42a4a6376699296a650e",
    "deepnote_cell_height": 759.0333251953125,
    "deepnote_cell_type": "markdown",
    "tags": []
   },
   "source": [
    "## Seleccionar respuestas correctas\n",
    "\n",
    "#### 1. Los árboles de decisión son una técnica de aprendizaje no-supervisado que predice los valores de las respuestas mediante el aprendizaje de reglas de decisión derivadas de características.\n",
    "\n",
    "a) falso\n",
    "b) verdadero\n",
    "\n",
    "#### 2. Los árboles de decisión solo son adecuados para problemas de clasificación.\n",
    "a) falso\n",
    "b) verdadero\n",
    "\n",
    "\n",
    "#### 3. En un algoritmo de árbol de decisión, la entropía ayuda a determinar una característica o atributo que brinda la máxima información sobre una clase que se llama.\n",
    "a) maximum depth - Profundidad máxima\n",
    "b) Information gain - Ganancia de información\n",
    "\n",
    "#### 4. Imagina que estás clasificando películas para un canal infantil. Un falso positivo es una película que no es segura pero está clasificada como segura y un falso negativo es una película que es segura pero está clasificada como no segura. ¿Qué métrica es más importante?\n",
    "\n",
    "a) precisión\n",
    "b) recall\n",
    "c) f1-score\n",
    "\n",
    "#### 5. Imagina que estás clasificando las transacciones de financiación del terrorismo. Un falso negativo es cuando una transacción de financiamiento del terrorismo se clasifica como segura y un falso positivo es cuando una transacción segura se clasifica como financiamiento del terrorismo. ¿Qué métrica es más importante?\n",
    "\n",
    "a) precisión\n",
    "b) recall\n",
    "c) f1-score\n",
    "\n",
    "\n"
   ]
  },
  {
   "cell_type": "markdown",
   "metadata": {
    "cell_id": "ad6c82b3fc304abb9c9a122d88e87bf3",
    "deepnote_cell_height": 46.23333740234375,
    "deepnote_cell_type": "markdown",
    "tags": []
   },
   "source": []
  }
 ],
 "metadata": {
  "deepnote": {},
  "deepnote_execution_queue": [],
  "deepnote_notebook_id": "d004efe2-2d3b-4833-8839-99484c53a45f",
  "kernelspec": {
   "display_name": "Python 3",
   "language": "python",
   "name": "python3"
  },
  "language_info": {
   "codemirror_mode": {
    "name": "ipython",
    "version": 3
   },
   "file_extension": ".py",
   "mimetype": "text/x-python",
   "name": "python",
   "nbconvert_exporter": "python",
   "pygments_lexer": "ipython3",
   "version": "3.7.2"
  }
 },
 "nbformat": 4,
 "nbformat_minor": 2
}
